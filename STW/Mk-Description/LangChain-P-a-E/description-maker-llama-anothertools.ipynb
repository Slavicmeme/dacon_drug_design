{
 "cells": [
  {
   "cell_type": "code",
   "execution_count": 14,
   "metadata": {},
   "outputs": [],
   "source": [
    "from typing import Literal\n",
    "from tqdm import tqdm\n",
    "from langchain.agents import initialize_agent, load_tools, AgentType\n",
    "from langchain.chains import LLMChain\n",
    "# from langchain_community.chat_models import ChatOllama\n",
    "from langchain.agents import load_tools, initialize_agent\n",
    "from langchain_community.utilities import SerpAPIWrapper\n",
    "\n",
    "from langchain_experimental.plan_and_execute import (\n",
    "    load_chat_planner, load_agent_executor, PlanAndExecute\n",
    ")\n",
    "from langchain.tools import Tool\n",
    "from transformers import AutoTokenizer\n",
    "from sentence_transformers import SentenceTransformer\n",
    "\n",
    "\n",
    "# if use GPT\n",
    "from langchain_openai import ChatOpenAI\n",
    "\n",
    "import pandas as pd\n",
    "import warnings"
   ]
  },
  {
   "cell_type": "code",
   "execution_count": 15,
   "metadata": {},
   "outputs": [],
   "source": [
    "# load CSV\n",
    "csv_name = \"train_data_smi_unique_target_name\"\n",
    "csv_dir = \"../target_csv/\"\n",
    "df = pd.read_csv(csv_dir + csv_name +\".csv\")"
   ]
  },
  {
   "cell_type": "code",
   "execution_count": 16,
   "metadata": {},
   "outputs": [],
   "source": [
    "# 경고 무시 설정\n",
    "warnings.filterwarnings(\"ignore\", category=FutureWarning)\n",
    "\n",
    "# 토크나이저 설정\n",
    "# # clean_up_tokenization_spaces=True, TRUE => 공백 포함, FALSE => 공백 제거, default = TRUE, 글 => TRUE, 코드나 포맷 형식 => FALSE  \n",
    "# tokenizer = AutoTokenizer.from_pretrained('sentence-transformers/all-MiniLM-L6-v2')\n",
    "\n",
    "# 임베딩 모델 로드\n",
    "embedding_model = SentenceTransformer('sentence-transformers/all-MiniLM-L6-v2')"
   ]
  },
  {
   "cell_type": "code",
   "execution_count": null,
   "metadata": {},
   "outputs": [],
   "source": [
    "ReasoningStrategies = Literal[\"zero-shot-react\", \"plan-and-solve\"]\n",
    "\n",
    "def load_agent(\n",
    "    tool_names: list[str],\n",
    "    strategy: ReasoningStrategies = \"zero-shot-react\"\n",
    ") -> LLMChain:\n",
    "    llm = ChatOpenAI(model=\"gpt-4o-mini\", temperature=0, streaming=True)\n",
    "    tools = load_tools(\n",
    "        tool_names=tool_names,\n",
    "        llm=llm\n",
    "    )\n",
    "    \n",
    "    if strategy == \"plan-and-solve\":\n",
    "        planner = load_chat_planner(llm)\n",
    "        executor = load_agent_executor(llm, tools, verbose=True)\n",
    "        return PlanAndExecute(planner=planner, executor=executor, verbose=True)\n",
    "\n",
    "    return initialize_agent(\n",
    "        tools=tools, llm=llm, agent=AgentType.ZERO_SHOT_REACT_DESCRIPTION,\n",
    "        verbose=True\n",
    "    )"
   ]
  },
  {
   "cell_type": "code",
   "execution_count": null,
   "metadata": {},
   "outputs": [],
   "source": [
    "# tools_llm = ChatOllama(model=\"llama3.1:70b\", temperature=0, streaming=True)"
   ]
  },
  {
   "cell_type": "code",
   "execution_count": null,
   "metadata": {},
   "outputs": [],
   "source": [
    "# 다른 도구들과 함께 PubMed Tool 로드\n",
    "tools = [\"wikipedia\", \"serpapi\", \"pubmed\"]"
   ]
  },
  {
   "cell_type": "code",
   "execution_count": null,
   "metadata": {},
   "outputs": [],
   "source": [
    "# 에이전트 초기화\n",
    "agent_chain = load_agent(tools, strategy=\"plan-and-solve\")"
   ]
  },
  {
   "cell_type": "code",
   "execution_count": null,
   "metadata": {},
   "outputs": [],
   "source": [
    "# Description 컬럼을 생성하여 각 protein_name에 대한 설명을 추가 및 저장\n",
    "if \"description\" not in df.columns:\n",
    "    df[\"description\"] = \"\""
   ]
  },
  {
   "cell_type": "code",
   "execution_count": null,
   "metadata": {},
   "outputs": [],
   "source": [
    "save_threshold = 10  # 열 개마다 저장\n",
    "save_count = 0"
   ]
  },
  {
   "cell_type": "code",
   "execution_count": null,
   "metadata": {},
   "outputs": [],
   "source": [
    "for idx, protein_name in tqdm(enumerate(df[\"Target Name\"]), desc=\"Fetching descriptions\", total=len(df)):\n",
    "    if not df.at[idx, \"description\"]:  # 이미 설명이 채워진 경우 건너뜀\n",
    "        query = f\"Please provide a brief description of {protein_name}.\"\n",
    "        try:\n",
    "            # description = agent_chain.invoke(query, handle_parsing_errors=True)\n",
    "            description = agent_chain.invoke(query)\n",
    "\n",
    "            if isinstance(description, dict) and 'output' in description:\n",
    "                description = description['output']\n",
    "            else:\n",
    "                description = f\"Error: Unexpected format - {description}\"\n",
    "                \n",
    "        except ValueError as e:\n",
    "            description = f\"Error: {str(e)}\"\n",
    "        \n",
    "        df.at[idx, \"description\"] = description\n",
    "        save_count += 1\n",
    "\n",
    "        # 열 개의 설명이 추가되면 저장\n",
    "        if save_count >= save_threshold:\n",
    "            df.to_csv(csv_name + \" cnt,\" + str(save_count) + \".csv\", index=False)\n",
    "            save_count = 0  # 저장 후 카운트 초기화"
   ]
  },
  {
   "cell_type": "code",
   "execution_count": null,
   "metadata": {},
   "outputs": [],
   "source": [
    "# 모든 작업이 끝난 후 마지막으로 저장 (남아있는 데이터 저장)\n",
    "if save_count > 0:\n",
    "    df.to_csv(csv_dir+csv_name + \"_descriptions.csv\", index=False)"
   ]
  },
  {
   "cell_type": "code",
   "execution_count": null,
   "metadata": {},
   "outputs": [],
   "source": [
    "df = df.drop(index=0)"
   ]
  },
  {
   "cell_type": "code",
   "execution_count": null,
   "metadata": {},
   "outputs": [],
   "source": [
    "df"
   ]
  },
  {
   "cell_type": "code",
   "execution_count": null,
   "metadata": {},
   "outputs": [],
   "source": [
    "# # JSon, output만 분리\n",
    "# df['description'] = df['description'].apply(lambda x: x['output'])"
   ]
  },
  {
   "cell_type": "code",
   "execution_count": null,
   "metadata": {},
   "outputs": [],
   "source": [
    "# 임베딩을 Target Name에 대응시키는 딕셔너리 생성\n",
    "df['embedding'] = df['description'].apply(\n",
    "    lambda text: None if text is None else embedding_model.encode(text)\n",
    ")"
   ]
  },
  {
   "cell_type": "code",
   "execution_count": null,
   "metadata": {},
   "outputs": [],
   "source": [
    "df.to_csv(csv_dir + csv_name + \"_descriptions.csv\", index=False)"
   ]
  },
  {
   "cell_type": "code",
   "execution_count": null,
   "metadata": {},
   "outputs": [],
   "source": [
    "# # 예시 도구 이름 리스트\n",
    "# tool_names = [\"wikipedia\"]\n",
    "\n",
    "# # 에이전트 로드 (제로샷 모델 사용)\n",
    "# agent_chain = load_agent(tool_names, strategy=\"zero-shot-react\")\n",
    "\n",
    "# # 에이전트 실행\n",
    "# result = agent_chain.run(\"Explain about T1-Faker\")\n",
    "\n",
    "# print(\"Result:\\n\", result)"
   ]
  },
  {
   "cell_type": "code",
   "execution_count": null,
   "metadata": {},
   "outputs": [],
   "source": [
    "# from langchain_experimental.plan_and_execute import PlanAndExecute\n",
    "# from langchain.llms import OpenAI\n",
    "# from langchain.tools import Tool\n",
    "# from langchain_community.utilities import SerpAPIWrapper\n",
    "\n",
    "# # LLM 초기화\n",
    "# llm = OpenAI(model=\"gpt-4\")\n",
    "\n",
    "# # PubMed 검색 함수 정의\n",
    "# def search_pubmed(query: str) -> str:\n",
    "#     serpapi = SerpAPIWrapper()\n",
    "#     results = serpapi.run(query)\n",
    "#     return \"\\n\".join(results)\n",
    "\n",
    "# # PubMed 도구 생성\n",
    "# pubmed_tool = Tool(\n",
    "#     name=\"pubmed_search\",\n",
    "#     func=search_pubmed,\n",
    "#     description=\"Search PubMed for scientific articles related to the query.\"\n",
    "# )\n",
    "\n",
    "# # Plan-and-Execute 에이전트 초기화\n",
    "# agent = PlanAndExecute(\n",
    "#     planner=llm,\n",
    "#     executor=llm,\n",
    "#     tools=[pubmed_tool],\n",
    "#     verbose=True\n",
    "# )\n",
    "\n",
    "# # 에이전트를 사용한 쿼리 실행\n",
    "# query = \"Tyrosine-protein kinase receptor RET\"\n",
    "# response = agent.run(query)\n",
    "\n",
    "# print(response)\n"
   ]
  },
  {
   "cell_type": "code",
   "execution_count": null,
   "metadata": {},
   "outputs": [],
   "source": []
  }
 ],
 "metadata": {
  "kernelspec": {
   "display_name": "Python 3 (ipykernel)",
   "language": "python",
   "name": "python3"
  },
  "language_info": {
   "codemirror_mode": {
    "name": "ipython",
    "version": 3
   },
   "file_extension": ".py",
   "mimetype": "text/x-python",
   "name": "python",
   "nbconvert_exporter": "python",
   "pygments_lexer": "ipython3",
   "version": "3.12.5"
  }
 },
 "nbformat": 4,
 "nbformat_minor": 4
}
