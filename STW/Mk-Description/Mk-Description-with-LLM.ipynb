{
 "cells": [
  {
   "cell_type": "code",
   "execution_count": 1,
   "metadata": {},
   "outputs": [
    {
     "name": "stderr",
     "output_type": "stream",
     "text": [
      "c:\\Users\\stu83\\anaconda3\\envs\\dacon\\Lib\\site-packages\\sentence_transformers\\cross_encoder\\CrossEncoder.py:11: TqdmExperimentalWarning: Using `tqdm.autonotebook.tqdm` in notebook mode. Use `tqdm.tqdm` instead to force console mode (e.g. in jupyter console)\n",
      "  from tqdm.autonotebook import tqdm, trange\n"
     ]
    }
   ],
   "source": [
    "import requests\n",
    "import pandas as pd\n",
    "\n",
    "from bs4 import BeautifulSoup\n",
    "from langchain import LLMChain\n",
    "from langchain_openai import ChatOpenAI\n",
    "from langchain.prompts import PromptTemplate\n",
    "from sentence_transformers import SentenceTransformer"
   ]
  },
  {
   "cell_type": "code",
   "execution_count": 2,
   "metadata": {},
   "outputs": [],
   "source": [
    "csv_dir = './target_csv/'\n",
    "csv_name = 'target_protein_wiki'\n",
    "df = pd.read_csv(csv_dir + csv_name + '.csv')"
   ]
  },
  {
   "cell_type": "code",
   "execution_count": 3,
   "metadata": {},
   "outputs": [
    {
     "name": "stderr",
     "output_type": "stream",
     "text": [
      "c:\\Users\\stu83\\anaconda3\\envs\\dacon\\Lib\\site-packages\\transformers\\tokenization_utils_base.py:1601: FutureWarning: `clean_up_tokenization_spaces` was not set. It will be set to `True` by default. This behavior will be depracted in transformers v4.45, and will be then set to `False` by default. For more details check this issue: https://github.com/huggingface/transformers/issues/31884\n",
      "  warnings.warn(\n"
     ]
    }
   ],
   "source": [
    "# 임베딩 모델 설정 (예: Sentence-BERT 사용)\n",
    "embedding_model = SentenceTransformer('all-MiniLM-L6-v2')"
   ]
  },
  {
   "cell_type": "code",
   "execution_count": 4,
   "metadata": {},
   "outputs": [],
   "source": [
    "def get_wiki_content(url):\n",
    "    \"\"\" 주어진 Wikipedia URL에서 내용을 크롤링하여 텍스트를 반환합니다. \"\"\"\n",
    "    try:\n",
    "        response = requests.get(url)\n",
    "        soup = BeautifulSoup(response.text, 'html.parser')\n",
    "        paragraphs = soup.find_all('p')\n",
    "        content = ' '.join([para.text for para in paragraphs])\n",
    "        return content.strip()\n",
    "    except Exception as e:\n",
    "        return f\"Error: {str(e)}\""
   ]
  },
  {
   "cell_type": "code",
   "execution_count": 5,
   "metadata": {},
   "outputs": [],
   "source": [
    "def summarize_text(text, llm_chain):\n",
    "    \"\"\"주어진 텍스트를 LLM을 통해 요약합니다.\"\"\"\n",
    "    try:\n",
    "        return llm_chain.invoke(text).content\n",
    "    except Exception as e:\n",
    "        return f\"Error during summarization: {str(e)}\""
   ]
  },
  {
   "cell_type": "code",
   "execution_count": 6,
   "metadata": {},
   "outputs": [],
   "source": [
    "# LLM 설정\n",
    "llm = ChatOpenAI(model_name=\"gpt-4o-mini\", temperature=0)\n",
    "\n",
    "template = \"\"\"\n",
    "Please remove any unnecessary phrases (e.g., 'citation needed', '[who?]', '[when?]' etc.) from the text below and retain only the core content. Clean up any parts that disrupt the flow of the text. However, do not remove any identifiers (e.g., gene or protein IDs).\n",
    "Text: {text}\n",
    "\"\"\"\n",
    "\n",
    "# Prompt 설정\n",
    "prompt = PromptTemplate(\n",
    "    input_variables=[\"text\"],  # LLM이 처리할 입력 변수 이름\n",
    "    template=template\n",
    ")# LLM에게 줄 실제 프롬프트\n",
    "\n",
    "# LLMChain 생성\n",
    "llm_chain = prompt | llm"
   ]
  },
  {
   "cell_type": "code",
   "execution_count": 7,
   "metadata": {},
   "outputs": [],
   "source": [
    "df_filtered = df[df['Wiki'] != 'FALSE']"
   ]
  },
  {
   "cell_type": "code",
   "execution_count": 13,
   "metadata": {},
   "outputs": [],
   "source": [
    "# \"Wiki_documents\" 컬럼 생성 및 요약 처리\n",
    "df_filtered.loc[:, 'Wiki_documents'] = df_filtered['Wiki'].apply(\n",
    "    lambda x: summarize_text(get_wiki_content(x), llm_chain)\n",
    ")\n"
   ]
  },
  {
   "cell_type": "code",
   "execution_count": 14,
   "metadata": {},
   "outputs": [],
   "source": [
    "# 임베딩 생성 및 \"embedding\" 컬럼 추가\n",
    "df_filtered.loc[:, 'embedding'] = df_filtered['Wiki_documents'].apply(\n",
    "    lambda text: None if text is None else embedding_model.encode(text)\n",
    ")"
   ]
  },
  {
   "cell_type": "code",
   "execution_count": 16,
   "metadata": {},
   "outputs": [
    {
     "name": "stdout",
     "output_type": "stream",
     "text": [
      "<bound method NDFrame.head of                                           Target Name  \\\n",
      "1             Macrophage-stimulating protein receptor   \n",
      "2                           Cyclin-dependent kinase 7   \n",
      "4                                   Plasma kallikrein   \n",
      "5                       PI3-kinase p110-alpha subunit   \n",
      "6   Signal transducer and activator of transcripti...   \n",
      "7                     Rho-associated protein kinase 2   \n",
      "8                        Tyrosine-protein kinase JAK2   \n",
      "10              Serine/threonine-protein kinase B-raf   \n",
      "11                        Tyrosine-protein kinase TXK   \n",
      "12                      PI3-kinase p110-delta subunit   \n",
      "14               Serine/threonine-protein kinase mTOR   \n",
      "15                Dual specificity protein kinase TTK   \n",
      "16                    Tyrosine-protein kinase ITK/TSK   \n",
      "17                               Choline kinase alpha   \n",
      "18                        Tyrosine-protein kinase TEC   \n",
      "19              Tyrosine-protein kinase receptor FLT3   \n",
      "20                          Cyclin-dependent kinase 1   \n",
      "24                          Cyclin-dependent kinase 5   \n",
      "26         Interleukin-1 receptor-associated kinase 4   \n",
      "27                            Casein kinase I epsilon   \n",
      "28                       Tyrosine-protein kinase JAK3   \n",
      "29                Serine/threonine-protein kinase AKT   \n",
      "32         Interleukin-1 receptor-associated kinase 3   \n",
      "33                        Tyrosine-protein kinase SRC   \n",
      "36                       PI3-kinase p110-beta subunit   \n",
      "38                Fibroblast growth factor receptor 4   \n",
      "39                          Cyclin-dependent kinase 2   \n",
      "40                  Hepatocyte growth factor receptor   \n",
      "41      Vascular endothelial growth factor receptor 2   \n",
      "42           Serine/threonine-protein kinase Aurora-A   \n",
      "43                          Cyclin-dependent kinase 9   \n",
      "44                 E3 ubiquitin-protein ligase TRIM33   \n",
      "46             Tyrosine-protein kinase receptor TYRO3   \n",
      "47               Serine/threonine-protein kinase MST2   \n",
      "50                                        Tankyrase-2   \n",
      "51               Serine/threonine-protein kinase PLK4   \n",
      "53               Serine/threonine-protein kinase AKT2   \n",
      "54         Interleukin-1 receptor-associated kinase 1   \n",
      "55  Eukaryotic translation initiation factor 2-alp...   \n",
      "56                    Thymidine kinase, mitochondrial   \n",
      "57                   Stem cell growth factor receptor   \n",
      "59               Serine/threonine-protein kinase AKT3   \n",
      "60                      PI3-kinase p110-gamma subunit   \n",
      "\n",
      "                                                 Wiki  \\\n",
      "1                 https://en.wikipedia.org/wiki/MST1R   \n",
      "2   https://en.wikipedia.org/wiki/Cyclin-dependent...   \n",
      "4     https://en.wikipedia.org/wiki/Plasma_kallikrein   \n",
      "5   https://en.wikipedia.org/wiki/Phosphoinositide...   \n",
      "6                 https://en.wikipedia.org/wiki/STAT3   \n",
      "7   https://en.wikipedia.org/wiki/Rho-associated_p...   \n",
      "8        https://en.wikipedia.org/wiki/Janus_kinase_2   \n",
      "10  https://en.wikipedia.org/wiki/Serine/threonine...   \n",
      "11           https://en.wikipedia.org/wiki/TXK_(gene)   \n",
      "12           https://en.wikipedia.org/wiki/P110%CE%B4   \n",
      "14                 https://en.wikipedia.org/wiki/MTOR   \n",
      "15           https://en.wikipedia.org/wiki/TTK_(gene)   \n",
      "16           https://en.wikipedia.org/wiki/ITK_(gene)   \n",
      "17       https://en.wikipedia.org/wiki/Choline_kinase   \n",
      "18           https://en.wikipedia.org/wiki/TEC_(gene)   \n",
      "19  https://en.wikipedia.org/wiki/Receptor_tyrosin...   \n",
      "20  https://en.wikipedia.org/wiki/Cyclin-dependent...   \n",
      "24  https://en.wikipedia.org/wiki/Cyclin-dependent...   \n",
      "26                https://en.wikipedia.org/wiki/IRAK4   \n",
      "27  https://en.wikipedia.org/wiki/Casein_kinase_1_...   \n",
      "28       https://en.wikipedia.org/wiki/Janus_kinase_3   \n",
      "29  https://en.wikipedia.org/wiki/Serine/threonine...   \n",
      "32  https://en.wikipedia.org/wiki/Interleukin-1_re...   \n",
      "33  https://en.wikipedia.org/wiki/Proto-oncogene_t...   \n",
      "36               https://en.wikipedia.org/wiki/PIK3CB   \n",
      "38  https://en.wikipedia.org/wiki/Fibroblast_growt...   \n",
      "39  https://en.wikipedia.org/wiki/Cyclin-dependent...   \n",
      "40  https://en.wikipedia.org/wiki/Hepatocyte_growt...   \n",
      "41        https://en.wikipedia.org/wiki/VEGF_receptor   \n",
      "42      https://en.wikipedia.org/wiki/Aurora_kinase_A   \n",
      "43  https://en.wikipedia.org/wiki/Cyclin-dependent...   \n",
      "44               https://en.wikipedia.org/wiki/TRIM33   \n",
      "46                https://en.wikipedia.org/wiki/TYRO3   \n",
      "47                 https://en.wikipedia.org/wiki/STK3   \n",
      "50          https://en.wikipedia.org/wiki/Tankyrase_2   \n",
      "51                 https://en.wikipedia.org/wiki/PLK4   \n",
      "53                 https://en.wikipedia.org/wiki/AKT2   \n",
      "54                https://en.wikipedia.org/wiki/IRAK1   \n",
      "55              https://en.wikipedia.org/wiki/EIF2AK3   \n",
      "56     https://en.wikipedia.org/wiki/Thymidine_kinase   \n",
      "57           https://en.wikipedia.org/wiki/KIT_(gene)   \n",
      "59                 https://en.wikipedia.org/wiki/AKT3   \n",
      "60               https://en.wikipedia.org/wiki/PIK3CG   \n",
      "\n",
      "                                       Wiki_documents  \\\n",
      "1   3PLS, 4FWW, 4QT8, 4486, 19882, ENSG00000164078...   \n",
      "2   1UA2 1022 12572 ENSG00000134058 ENSG0000027727...   \n",
      "4   4OGY, 2ANW, 4OGX, 4ZJ4, 2ANY, 4ZJ5, 4ZJ6, 3818...   \n",
      "5   Phosphoinositide 3-kinases (PI3Ks) are a famil...   \n",
      "6   5AX3 6774 20848 ENSG00000168610 ENSMUSG0000000...   \n",
      "7   Rho-associated protein kinase (ROCK) is a kina...   \n",
      "8   5AEP, 2B7A, 2W1I, 2XA4, 3E62, 3E63, 3E64, 3FUP...   \n",
      "10  A serine/threonine protein kinase (EC 2.7.11.-...   \n",
      "11  2DM0 7294 22165 ENSG00000074966 ENSMUSG0000005...   \n",
      "12  5DXU 5293 18707 ENSG00000171608 ENSMUSG0000003...   \n",
      "14  4JT6, 1AUE, 1FAP, 1NSG, 2FAP, 2GAQ, 2NPU, 2RSE...   \n",
      "15  2X9E, 2ZMC, 2ZMD, 3CEK, 3DBQ, 3GFW, 3H9F, 3HMN...   \n",
      "16  1SM2, 1SNU, 1SNX, 2E6I, 2LMJ, 2YUQ, 3MIY, 3MJ1...   \n",
      "17  Choline kinase (CK, ChoK, choline phosphokinas...   \n",
      "18  2LUL 7006 21682 ENSG00000135605 ENSMUSG0000002...   \n",
      "19  Receptor tyrosine kinases (RTKs) are high-affi...   \n",
      "20  4YC6, 4Y72, 5HQ0, 4YC3, 983, 12534, ENSG000001...   \n",
      "24  1H4L, 1UNG, 1UNH, 1UNL, 3O0G, 4AU8, 1020, 1256...   \n",
      "26  2NRU, 2NRY, 2O8Y, 2OIB, 2OIC, 2OID, 3MOP, 4U97...   \n",
      "27  4HNI, 4HOK, 1454, 27373, ENSG00000213923, ENSM...   \n",
      "28  4RIO, 1YVJ, 3LXK, 3LXL, 3PJC, 3ZC6, 3ZEP, 4HVD...   \n",
      "29  A serine/threonine protein kinase (EC 2.7.11.-...   \n",
      "32  The interleukin-1 receptor (IL-1R) associated ...   \n",
      "33  1A07, 1A08, 1A09, 1A1A, 1A1B, 1A1C, 1A1E, 1FMK...   \n",
      "36  5291 74769 ENSG00000051382 ENSMUSG00000032462 ...   \n",
      "38  4QQ5, 4QQC, 4QQJ, 4QQT, 4QRC, 4R6V, 4TYE, 4TYG...   \n",
      "39  1AQ1, 1B38, 1B39, 1BUH, 1CKP, 1DI8, 1DM2, 1E1V...   \n",
      "40  1FYR, 1R0P, 1R1W, 1SHY, 1SSL, 2G15, 2RFN, 2RFS...   \n",
      "41  VEGF receptors (VEGFRs) are receptors for vasc...   \n",
      "42  4UZH, 1MQ4, 1MUO, 1OL5, 1OL6, 1OL7, 2BMC, 2C6D...   \n",
      "43  3BLH, 3BLQ, 3BLR, 3LQ5, 3MI9, 3MIA, 3MY1, 3TN8...   \n",
      "44  3U5M, 3U5N, 3U5O, 3U5P 51592 94093 ENSG0000019...   \n",
      "46  1RHF 7301 22174 ENSG00000092445 ENSMUSG0000002...   \n",
      "47  3WWS, 4HKD, 4L0N, 4LG4, 4LGD, 4OH9, 5BRM, 6788...   \n",
      "50  2Y0I, 3KR7, 3KR8, 3MHJ, 3MHK, 3P0N, 3P0P, 3P0Q...   \n",
      "51  2N19, 3COK, 4JXF, 4N7V, 4N7Z, 4N9J, 4YUR, 4YYP...   \n",
      "53  1GZK, 1GZN, 1GZO, 1MRV, 1MRY, 1O6K, 1O6L, 1P6S...   \n",
      "54  Interleukin-1 receptor-associated kinase 1 (IR...   \n",
      "55  4G31, 4G34, 4M7I, 4X7H, 4X7J, 4X7K, 4X7L, 4X7N...   \n",
      "56  Thymidine kinase is an enzyme, specifically a ...   \n",
      "57  4U0I, 1PKG, 1T45, 1T46, 2E9W, 2EC8, 2VIF, 3G0E...   \n",
      "59  2X18 10000 23797 ENSG00000117020 ENSG000002751...   \n",
      "60  1E8Y, 1E8Z, 1HE8, 2A4Z, 2A5U, 2CHW, 2CHX, 2CHZ...   \n",
      "\n",
      "                                            embedding  \n",
      "1   [-0.10945937, -0.07567011, -0.08730478, -0.025...  \n",
      "2   [-0.09413343, 0.029624928, -0.07139506, 0.0107...  \n",
      "4   [-0.068883024, -0.08548915, -0.07698273, 0.048...  \n",
      "5   [-0.10327175, -0.016351247, -0.12875335, -0.05...  \n",
      "6   [-0.12434038, -0.078308724, -0.113229044, 0.01...  \n",
      "7   [-0.0840036, -0.048685327, 0.02257438, 0.03688...  \n",
      "8   [-0.038095154, -0.037290312, -0.08727358, -0.0...  \n",
      "10  [-0.046273164, 0.010728631, -0.0758338, -0.023...  \n",
      "11  [-0.061343055, 0.015733777, -0.112890705, 0.01...  \n",
      "12  [-0.10858144, -0.03477896, -0.1008617, -0.0999...  \n",
      "14  [-0.12193503, -0.028095298, -0.018603982, -0.0...  \n",
      "15  [-0.034270767, -0.027169565, -0.058531787, -0....  \n",
      "16  [-0.05517012, -0.01892571, -0.08505899, -0.016...  \n",
      "17  [-0.07420324, -0.10342717, -0.0586771, 0.01756...  \n",
      "18  [-0.07565898, -0.067475505, -0.08587967, -0.02...  \n",
      "19  [-0.06508168, -0.019442191, -0.1349595, 0.0342...  \n",
      "20  [-0.107996546, 0.0024675478, -0.062867455, -0....  \n",
      "24  [-0.10018508, -0.023143394, -0.00565885, 0.025...  \n",
      "26  [-0.04445461, -0.009957006, -0.0782449, -0.011...  \n",
      "27  [-0.13601379, -0.0570145, -0.041537855, -0.007...  \n",
      "28  [-0.098400176, -0.012645159, -0.14651261, -0.0...  \n",
      "29  [-0.046273164, 0.010728631, -0.0758338, -0.023...  \n",
      "32  [-0.11662754, -0.009246001, 0.015991036, -0.00...  \n",
      "33  [0.0056517464, -0.0378891, -0.07585028, -0.046...  \n",
      "36  [-0.112622805, -0.041203864, -0.11572165, -0.0...  \n",
      "38  [0.03804744, -0.024338871, -0.07065675, -0.031...  \n",
      "39  [-0.05481636, -0.015819853, -0.041724913, -0.0...  \n",
      "40  [-0.06761598, -0.038006023, -0.11530678, -0.04...  \n",
      "41  [0.03341859, -0.07602138, -0.04983136, -0.0159...  \n",
      "42  [-0.05066631, -0.021093994, -0.09722208, -0.01...  \n",
      "43  [-0.094039336, -0.014845114, -0.11030341, -0.0...  \n",
      "44  [-0.081582434, -0.0004951841, -0.050262082, -0...  \n",
      "46  [-0.021108454, -0.09061225, -0.14350718, -0.03...  \n",
      "47  [-0.065944314, -0.049323842, -0.10334083, 0.03...  \n",
      "50  [-0.027991056, -0.025062004, -0.10326548, -0.0...  \n",
      "51  [-0.10520542, -0.02956003, -0.00022126424, -0....  \n",
      "53  [-0.108869016, -0.04626671, -0.12254545, 0.025...  \n",
      "54  [-0.10331902, 0.0013822298, -0.0599062, -0.037...  \n",
      "55  [-0.0066360002, -0.043631237, -0.10861162, -0....  \n",
      "56  [-0.082901336, 0.05751031, -0.074514985, -0.09...  \n",
      "57  [-0.06488577, -0.040076327, -0.11987509, -0.01...  \n",
      "59  [-0.13414112, -0.08352277, -0.11210892, 0.0222...  \n",
      "60  [-0.06764811, -0.04785103, -0.087780274, -0.03...  >\n",
      "Index(['Target Name', 'Wiki', 'Wiki_documents', 'embedding'], dtype='object')\n"
     ]
    }
   ],
   "source": [
    "print(df_filtered.head)"
   ]
  },
  {
   "cell_type": "code",
   "execution_count": 17,
   "metadata": {},
   "outputs": [
    {
     "name": "stdout",
     "output_type": "stream",
     "text": [
      "Index(['Target Name', 'Wiki', 'Wiki_documents', 'embedding'], dtype='object')\n"
     ]
    }
   ],
   "source": [
    "print(df_filtered.columns)"
   ]
  },
  {
   "cell_type": "code",
   "execution_count": 18,
   "metadata": {},
   "outputs": [
    {
     "name": "stdout",
     "output_type": "stream",
     "text": [
      "새 파일이 저장되었습니다: ./target_csv/protein_embedding_with_LLM.csv\n"
     ]
    }
   ],
   "source": [
    "# 결과를 새 CSV 파일로 저장\n",
    "output_file_path = './target_csv/protein_embedding_with_LLM.csv'\n",
    "df_filtered.to_csv(output_file_path, index=False , index = False)\n",
    "print(f\"새 파일이 저장되었습니다: {output_file_path}\")"
   ]
  },
  {
   "cell_type": "code",
   "execution_count": 12,
   "metadata": {},
   "outputs": [],
   "source": [
    "# import requests\n",
    "# from bs4 import BeautifulSoup\n",
    "# import pandas as pd\n",
    "\n",
    "# csv_name = 'target_protein_wiki'\n",
    "# df = pd.read_csv(csv_name + '.csv')\n",
    "\n",
    "# def get_wiki_content(url):\n",
    "#     \"\"\" 주어진 Wikipedia URL에서 내용을 크롤링하여 텍스트를 반환합니다. \"\"\"\n",
    "#     try:\n",
    "#         response = requests.get(url)\n",
    "#         soup = BeautifulSoup(response.text, 'html.parser')\n",
    "#         paragraphs = soup.find_all('p')\n",
    "#         content = ' '.join([para.text for para in paragraphs])\n",
    "#         return content.strip()\n",
    "#     except Exception as e:\n",
    "#         return f\"Error: {str(e)}\"\n",
    "\n",
    "# # 새로운 컬럼 \"Wiki_documents\" 생성\n",
    "# df['Wiki_documents'] = df['Wiki'].apply(lambda x: None if x == \"FALSE\" else get_wiki_content(x))\n",
    "\n",
    "# # 결과를 새 CSV 파일로 저장\n",
    "# output_file_path = csv_name + '_wiki_documents.csv'\n",
    "# df.to_csv(output_file_path, index=False)\n",
    "\n",
    "# print(f\"새 파일이 저장되었습니다: {output_file_path}\")\n",
    "# None GPT"
   ]
  }
 ],
 "metadata": {
  "kernelspec": {
   "display_name": "dacon",
   "language": "python",
   "name": "python3"
  },
  "language_info": {
   "codemirror_mode": {
    "name": "ipython",
    "version": 3
   },
   "file_extension": ".py",
   "mimetype": "text/x-python",
   "name": "python",
   "nbconvert_exporter": "python",
   "pygments_lexer": "ipython3",
   "version": "3.12.5"
  }
 },
 "nbformat": 4,
 "nbformat_minor": 2
}
