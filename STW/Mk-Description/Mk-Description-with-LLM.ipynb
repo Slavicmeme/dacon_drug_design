{
 "cells": [
  {
   "cell_type": "code",
   "execution_count": 1,
   "metadata": {},
   "outputs": [],
   "source": [
    "import requests\n",
    "import pandas as pd\n",
    "\n",
    "from bs4 import BeautifulSoup\n",
    "from langchain_openai import ChatOpenAI\n",
    "from langchain.chains import LLMChain\n",
    "from langchain.prompts import PromptTemplate"
   ]
  },
  {
   "cell_type": "code",
   "execution_count": 2,
   "metadata": {},
   "outputs": [],
   "source": [
    "csv_name = 'target_protein_wiki'\n",
    "df = pd.read_csv(csv_name + '.csv')"
   ]
  },
  {
   "cell_type": "code",
   "execution_count": 3,
   "metadata": {},
   "outputs": [],
   "source": [
    "def get_wiki_content(url):\n",
    "    \"\"\" 주어진 Wikipedia URL에서 내용을 크롤링하여 텍스트를 반환합니다. \"\"\"\n",
    "    try:\n",
    "        response = requests.get(url)\n",
    "        soup = BeautifulSoup(response.text, 'html.parser')\n",
    "        paragraphs = soup.find_all('p')\n",
    "        content = ' '.join([para.text for para in paragraphs])\n",
    "        return content.strip()\n",
    "    except Exception as e:\n",
    "        return f\"Error: {str(e)}\""
   ]
  },
  {
   "cell_type": "code",
   "execution_count": 4,
   "metadata": {},
   "outputs": [],
   "source": [
    "def summarize_text(text, llm_chain):\n",
    "    \"\"\"주어진 텍스트를 LLM을 통해 요약합니다.\"\"\"\n",
    "    try:\n",
    "        return llm_chain.invoke(text).content\n",
    "    except Exception as e:\n",
    "        return f\"Error during summarization: {str(e)}\""
   ]
  },
  {
   "cell_type": "code",
   "execution_count": 5,
   "metadata": {},
   "outputs": [],
   "source": [
    "# LLM 설정\n",
    "llm = ChatOpenAI(model_name=\"gpt-4o-mini\", temperature=0)\n",
    "\n",
    "# Prompt 설정\n",
    "prompt = PromptTemplate(\n",
    "    input_variables=[\"text\"],  # LLM이 처리할 입력 변수 이름\n",
    "    template=\"Please summarize the following text: {text}\"  # LLM에게 줄 실제 프롬프트\n",
    ")\n",
    "\n",
    "# LLMChain 생성\n",
    "llm_chain = prompt | llm"
   ]
  },
  {
   "cell_type": "code",
   "execution_count": 6,
   "metadata": {},
   "outputs": [],
   "source": [
    "# \"Wiki_documents\" 컬럼 생성 및 요약 처리\n",
    "df['Wiki_documents'] = df['Wiki'].apply(\n",
    "    lambda x: None if x == \"FALSE\" else summarize_text(get_wiki_content(x), llm_chain)\n",
    ")"
   ]
  },
  {
   "cell_type": "code",
   "execution_count": 8,
   "metadata": {},
   "outputs": [
    {
     "name": "stdout",
     "output_type": "stream",
     "text": [
      "새 파일이 저장되었습니다: target_protein_wiki_wiki_documents_summarized.csv\n"
     ]
    }
   ],
   "source": [
    "# 결과를 새 CSV 파일로 저장\n",
    "output_file_path = csv_name + '_wiki_documents_summarized.csv'\n",
    "df.to_csv(output_file_path, index=False)\n",
    "print(f\"새 파일이 저장되었습니다: {output_file_path}\")"
   ]
  },
  {
   "cell_type": "code",
   "execution_count": null,
   "metadata": {},
   "outputs": [],
   "source": []
  },
  {
   "cell_type": "code",
   "execution_count": null,
   "metadata": {},
   "outputs": [],
   "source": [
    "# import requests\n",
    "# from bs4 import BeautifulSoup\n",
    "# import pandas as pd\n",
    "\n",
    "# csv_name = 'target_protein_wiki'\n",
    "# df = pd.read_csv(csv_name + '.csv')\n",
    "\n",
    "# def get_wiki_content(url):\n",
    "#     \"\"\" 주어진 Wikipedia URL에서 내용을 크롤링하여 텍스트를 반환합니다. \"\"\"\n",
    "#     try:\n",
    "#         response = requests.get(url)\n",
    "#         soup = BeautifulSoup(response.text, 'html.parser')\n",
    "#         paragraphs = soup.find_all('p')\n",
    "#         content = ' '.join([para.text for para in paragraphs])\n",
    "#         return content.strip()\n",
    "#     except Exception as e:\n",
    "#         return f\"Error: {str(e)}\"\n",
    "\n",
    "# # 새로운 컬럼 \"Wiki_documents\" 생성\n",
    "# df['Wiki_documents'] = df['Wiki'].apply(lambda x: None if x == \"FALSE\" else get_wiki_content(x))\n",
    "\n",
    "# # 결과를 새 CSV 파일로 저장\n",
    "# output_file_path = csv_name + '_wiki_documents.csv'\n",
    "# df.to_csv(output_file_path, index=False)\n",
    "\n",
    "# print(f\"새 파일이 저장되었습니다: {output_file_path}\")\n",
    "# None GPT"
   ]
  }
 ],
 "metadata": {
  "kernelspec": {
   "display_name": "dacon",
   "language": "python",
   "name": "python3"
  },
  "language_info": {
   "codemirror_mode": {
    "name": "ipython",
    "version": 3
   },
   "file_extension": ".py",
   "mimetype": "text/x-python",
   "name": "python",
   "nbconvert_exporter": "python",
   "pygments_lexer": "ipython3",
   "version": "3.12.5"
  }
 },
 "nbformat": 4,
 "nbformat_minor": 2
}
