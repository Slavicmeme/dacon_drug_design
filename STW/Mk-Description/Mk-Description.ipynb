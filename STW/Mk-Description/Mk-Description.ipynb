{
 "cells": [
  {
   "cell_type": "code",
   "execution_count": 1,
   "metadata": {},
   "outputs": [
    {
     "name": "stderr",
     "output_type": "stream",
     "text": [
      "c:\\Users\\stu83\\miniconda3\\envs\\dacon\\Lib\\site-packages\\sentence_transformers\\cross_encoder\\CrossEncoder.py:11: TqdmExperimentalWarning: Using `tqdm.autonotebook.tqdm` in notebook mode. Use `tqdm.tqdm` instead to force console mode (e.g. in jupyter console)\n",
      "  from tqdm.autonotebook import tqdm, trange\n"
     ]
    }
   ],
   "source": [
    "import requests\n",
    "import pandas as pd\n",
    "\n",
    "from bs4 import BeautifulSoup\n",
    "from sentence_transformers import SentenceTransformer"
   ]
  },
  {
   "cell_type": "code",
   "execution_count": 2,
   "metadata": {},
   "outputs": [],
   "source": [
    "csv_name = 'target_protein_wiki'\n",
    "df = pd.read_csv(csv_name + '.csv')"
   ]
  },
  {
   "cell_type": "code",
   "execution_count": 3,
   "metadata": {},
   "outputs": [
    {
     "name": "stderr",
     "output_type": "stream",
     "text": [
      "c:\\Users\\stu83\\miniconda3\\envs\\dacon\\Lib\\site-packages\\transformers\\tokenization_utils_base.py:1601: FutureWarning: `clean_up_tokenization_spaces` was not set. It will be set to `True` by default. This behavior will be depracted in transformers v4.45, and will be then set to `False` by default. For more details check this issue: https://github.com/huggingface/transformers/issues/31884\n",
      "  warnings.warn(\n"
     ]
    }
   ],
   "source": [
    "# 임베딩 모델 설정 (예: Sentence-BERT 사용)\n",
    "embedding_model = SentenceTransformer('all-MiniLM-L6-v2')"
   ]
  },
  {
   "cell_type": "code",
   "execution_count": 4,
   "metadata": {},
   "outputs": [],
   "source": [
    "def get_wiki_content(url):\n",
    "    \"\"\" 주어진 Wikipedia URL에서 내용을 크롤링하여 텍스트를 반환합니다. \"\"\"\n",
    "    try:\n",
    "        response = requests.get(url)\n",
    "        soup = BeautifulSoup(response.text, 'html.parser')\n",
    "        paragraphs = soup.find_all('p')\n",
    "        content = ' '.join([para.text for para in paragraphs])\n",
    "        return content.strip()\n",
    "    except Exception as e:\n",
    "        return f\"Error: {str(e)}\""
   ]
  },
  {
   "cell_type": "code",
   "execution_count": 5,
   "metadata": {},
   "outputs": [],
   "source": [
    "# Wikipedia URL이 있는 경우 크롤링하고 임베딩을 생성\n",
    "def generate_wiki_embedding(row):\n",
    "    if pd.notna(row['Wiki']):\n",
    "        content = get_wiki_content(row['Wiki'])\n",
    "        if \"Error\" not in content:\n",
    "            embedding = embedding_model.encode(content)\n",
    "            return embedding\n",
    "        else:\n",
    "            return None\n",
    "    return None"
   ]
  },
  {
   "cell_type": "code",
   "execution_count": 6,
   "metadata": {},
   "outputs": [
    {
     "name": "stdout",
     "output_type": "stream",
     "text": [
      "                                          Target Name  \\\n",
      "1             Macrophage-stimulating protein receptor   \n",
      "2                           Cyclin-dependent kinase 7   \n",
      "4                                   Plasma kallikrein   \n",
      "5                       PI3-kinase p110-alpha subunit   \n",
      "6   Signal transducer and activator of transcripti...   \n",
      "7                     Rho-associated protein kinase 2   \n",
      "8                        Tyrosine-protein kinase JAK2   \n",
      "10              Serine/threonine-protein kinase B-raf   \n",
      "11                        Tyrosine-protein kinase TXK   \n",
      "12                      PI3-kinase p110-delta subunit   \n",
      "14               Serine/threonine-protein kinase mTOR   \n",
      "15                Dual specificity protein kinase TTK   \n",
      "16                    Tyrosine-protein kinase ITK/TSK   \n",
      "17                               Choline kinase alpha   \n",
      "18                        Tyrosine-protein kinase TEC   \n",
      "19              Tyrosine-protein kinase receptor FLT3   \n",
      "20                          Cyclin-dependent kinase 1   \n",
      "24                          Cyclin-dependent kinase 5   \n",
      "26         Interleukin-1 receptor-associated kinase 4   \n",
      "27                            Casein kinase I epsilon   \n",
      "28                       Tyrosine-protein kinase JAK3   \n",
      "29                Serine/threonine-protein kinase AKT   \n",
      "32         Interleukin-1 receptor-associated kinase 3   \n",
      "33                        Tyrosine-protein kinase SRC   \n",
      "36                       PI3-kinase p110-beta subunit   \n",
      "38                Fibroblast growth factor receptor 4   \n",
      "39                          Cyclin-dependent kinase 2   \n",
      "40                  Hepatocyte growth factor receptor   \n",
      "41      Vascular endothelial growth factor receptor 2   \n",
      "42           Serine/threonine-protein kinase Aurora-A   \n",
      "43                          Cyclin-dependent kinase 9   \n",
      "44                 E3 ubiquitin-protein ligase TRIM33   \n",
      "46             Tyrosine-protein kinase receptor TYRO3   \n",
      "47               Serine/threonine-protein kinase MST2   \n",
      "50                                        Tankyrase-2   \n",
      "51               Serine/threonine-protein kinase PLK4   \n",
      "53               Serine/threonine-protein kinase AKT2   \n",
      "54         Interleukin-1 receptor-associated kinase 1   \n",
      "55  Eukaryotic translation initiation factor 2-alp...   \n",
      "56                    Thymidine kinase, mitochondrial   \n",
      "57                   Stem cell growth factor receptor   \n",
      "59               Serine/threonine-protein kinase AKT3   \n",
      "60                      PI3-kinase p110-gamma subunit   \n",
      "\n",
      "                                                 Wiki  \n",
      "1                 https://en.wikipedia.org/wiki/MST1R  \n",
      "2   https://en.wikipedia.org/wiki/Cyclin-dependent...  \n",
      "4     https://en.wikipedia.org/wiki/Plasma_kallikrein  \n",
      "5   https://en.wikipedia.org/wiki/Phosphoinositide...  \n",
      "6                 https://en.wikipedia.org/wiki/STAT3  \n",
      "7   https://en.wikipedia.org/wiki/Rho-associated_p...  \n",
      "8        https://en.wikipedia.org/wiki/Janus_kinase_2  \n",
      "10  https://en.wikipedia.org/wiki/Serine/threonine...  \n",
      "11           https://en.wikipedia.org/wiki/TXK_(gene)  \n",
      "12           https://en.wikipedia.org/wiki/P110%CE%B4  \n",
      "14                 https://en.wikipedia.org/wiki/MTOR  \n",
      "15           https://en.wikipedia.org/wiki/TTK_(gene)  \n",
      "16           https://en.wikipedia.org/wiki/ITK_(gene)  \n",
      "17       https://en.wikipedia.org/wiki/Choline_kinase  \n",
      "18           https://en.wikipedia.org/wiki/TEC_(gene)  \n",
      "19  https://en.wikipedia.org/wiki/Receptor_tyrosin...  \n",
      "20  https://en.wikipedia.org/wiki/Cyclin-dependent...  \n",
      "24  https://en.wikipedia.org/wiki/Cyclin-dependent...  \n",
      "26                https://en.wikipedia.org/wiki/IRAK4  \n",
      "27  https://en.wikipedia.org/wiki/Casein_kinase_1_...  \n",
      "28       https://en.wikipedia.org/wiki/Janus_kinase_3  \n",
      "29  https://en.wikipedia.org/wiki/Serine/threonine...  \n",
      "32  https://en.wikipedia.org/wiki/Interleukin-1_re...  \n",
      "33  https://en.wikipedia.org/wiki/Proto-oncogene_t...  \n",
      "36               https://en.wikipedia.org/wiki/PIK3CB  \n",
      "38  https://en.wikipedia.org/wiki/Fibroblast_growt...  \n",
      "39  https://en.wikipedia.org/wiki/Cyclin-dependent...  \n",
      "40  https://en.wikipedia.org/wiki/Hepatocyte_growt...  \n",
      "41        https://en.wikipedia.org/wiki/VEGF_receptor  \n",
      "42      https://en.wikipedia.org/wiki/Aurora_kinase_A  \n",
      "43  https://en.wikipedia.org/wiki/Cyclin-dependent...  \n",
      "44               https://en.wikipedia.org/wiki/TRIM33  \n",
      "46                https://en.wikipedia.org/wiki/TYRO3  \n",
      "47                 https://en.wikipedia.org/wiki/STK3  \n",
      "50          https://en.wikipedia.org/wiki/Tankyrase_2  \n",
      "51                 https://en.wikipedia.org/wiki/PLK4  \n",
      "53                 https://en.wikipedia.org/wiki/AKT2  \n",
      "54                https://en.wikipedia.org/wiki/IRAK1  \n",
      "55              https://en.wikipedia.org/wiki/EIF2AK3  \n",
      "56     https://en.wikipedia.org/wiki/Thymidine_kinase  \n",
      "57           https://en.wikipedia.org/wiki/KIT_(gene)  \n",
      "59                 https://en.wikipedia.org/wiki/AKT3  \n",
      "60               https://en.wikipedia.org/wiki/PIK3CG  \n"
     ]
    }
   ],
   "source": [
    "# \"Wiki\" 컬럼에서 값이 \"FALSE\"인 행들을 제거합니다.\n",
    "df_cleaned = df[df['Wiki'] != \"FALSE\"]\n",
    "\n",
    "# 결과를 확인하거나 저장할 수 있습니다.\n",
    "print(df_cleaned)"
   ]
  },
  {
   "cell_type": "code",
   "execution_count": 7,
   "metadata": {},
   "outputs": [],
   "source": [
    "# \"Wiki\" 컬럼에서 값이 \"FALSE\"인 행들을 제거합니다.\n",
    "df_cleaned = df[df['Wiki'] != \"FALSE\"].copy()  # .copy()를 사용하여 슬라이스의 복사본을 만듭니다.\n",
    "\n",
    "# \"Wiki_Document\" 컬럼을 생성하여 크롤링한 내용을 추가합니다.\n",
    "df_cleaned.loc[:, 'Wiki_Document'] = df_cleaned.apply(lambda row: get_wiki_content(row['Wiki']), axis=1)\n",
    "\n",
    "# 임베딩 값 저장\n",
    "df_cleaned['Wiki_Embedding'] = df_cleaned.apply(generate_wiki_embedding, axis=1)"
   ]
  },
  {
   "cell_type": "code",
   "execution_count": 8,
   "metadata": {},
   "outputs": [
    {
     "name": "stdout",
     "output_type": "stream",
     "text": [
      "Final dataframe with Wiki Embeddings saved to 'final_train_data_with_embeddings.csv'\n"
     ]
    }
   ],
   "source": [
    "# 최종 데이터프레임을 CSV 파일로 저장\n",
    "df_cleaned.to_csv('target_protein_embeddings.csv', index=False)\n",
    "print(\"Final dataframe with Wiki Embeddings saved to 'final_train_data_with_embeddings.csv'\")"
   ]
  },
  {
   "cell_type": "code",
   "execution_count": null,
   "metadata": {},
   "outputs": [],
   "source": []
  }
 ],
 "metadata": {
  "kernelspec": {
   "display_name": "dacon",
   "language": "python",
   "name": "python3"
  },
  "language_info": {
   "codemirror_mode": {
    "name": "ipython",
    "version": 3
   },
   "file_extension": ".py",
   "mimetype": "text/x-python",
   "name": "python",
   "nbconvert_exporter": "python",
   "pygments_lexer": "ipython3",
   "version": "3.12.5"
  }
 },
 "nbformat": 4,
 "nbformat_minor": 2
}
