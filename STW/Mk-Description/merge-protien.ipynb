{
 "cells": [
  {
   "cell_type": "code",
   "execution_count": 1,
   "metadata": {},
   "outputs": [],
   "source": [
    "import pandas as pd"
   ]
  },
  {
   "cell_type": "code",
   "execution_count": 2,
   "metadata": {},
   "outputs": [],
   "source": [
    "train_dir = './target_csv/'\n",
    "train_csv_name = 'Filtered_train_data_smi'\n",
    "\n",
    "train = pd.read_csv(train_dir + train_csv_name + '.csv')"
   ]
  },
  {
   "cell_type": "code",
   "execution_count": 3,
   "metadata": {},
   "outputs": [
    {
     "data": {
      "text/plain": [
       "Index(['Unnamed: 0', 'Smiles', 'Target Name', 'Standard Value',\n",
       "       'Smiles_feature_vector', 'image_feature_vector',\n",
       "       'target_protein_vector'],\n",
       "      dtype='object')"
      ]
     },
     "execution_count": 3,
     "metadata": {},
     "output_type": "execute_result"
    }
   ],
   "source": [
    "train.columns"
   ]
  },
  {
   "cell_type": "code",
   "execution_count": 4,
   "metadata": {},
   "outputs": [
    {
     "data": {
      "text/plain": [
       "(70704, 7)"
      ]
     },
     "execution_count": 4,
     "metadata": {},
     "output_type": "execute_result"
    }
   ],
   "source": [
    "train.shape"
   ]
  },
  {
   "cell_type": "code",
   "execution_count": 5,
   "metadata": {},
   "outputs": [],
   "source": [
    "val_dir = './target_csv/'\n",
    "val_csv_name = 'Filtered_val_data_smi'\n",
    "\n",
    "val = pd.read_csv(val_dir + val_csv_name + '.csv')"
   ]
  },
  {
   "cell_type": "code",
   "execution_count": 6,
   "metadata": {},
   "outputs": [
    {
     "data": {
      "text/plain": [
       "Index(['Unnamed: 0', 'Smiles', 'Target Name', 'Standard Value',\n",
       "       'Smiles_feature_vector', 'image_feature_vector',\n",
       "       'target_protein_vector'],\n",
       "      dtype='object')"
      ]
     },
     "execution_count": 6,
     "metadata": {},
     "output_type": "execute_result"
    }
   ],
   "source": [
    "val.columns"
   ]
  },
  {
   "cell_type": "code",
   "execution_count": 7,
   "metadata": {},
   "outputs": [
    {
     "data": {
      "text/plain": [
       "(1952, 7)"
      ]
     },
     "execution_count": 7,
     "metadata": {},
     "output_type": "execute_result"
    }
   ],
   "source": [
    "val.shape"
   ]
  },
  {
   "cell_type": "code",
   "execution_count": 8,
   "metadata": {},
   "outputs": [],
   "source": [
    "merge_dir = './target_csv/'\n",
    "merge_csv_name = 'protein_embedding_with_LLM'\n",
    "\n",
    "merge = pd.read_csv(merge_dir + merge_csv_name + '.csv')"
   ]
  },
  {
   "cell_type": "code",
   "execution_count": 9,
   "metadata": {},
   "outputs": [
    {
     "data": {
      "text/plain": [
       "(43, 4)"
      ]
     },
     "execution_count": 9,
     "metadata": {},
     "output_type": "execute_result"
    }
   ],
   "source": [
    "merge.shape"
   ]
  },
  {
   "cell_type": "code",
   "execution_count": 10,
   "metadata": {},
   "outputs": [],
   "source": [
    "def add_protein_vector_and_save(val_df, merge_df, file_name):\n",
    "    \"\"\"\n",
    "    val_df 데이터프레임의 'Target Name'을 기준으로 merge_df에서\n",
    "    'embedding' 값을 찾아 'target_protein_vector' 컬럼에 추가하고 파일로 저장합니다.\n",
    "    \n",
    "    Parameters:\n",
    "    val_df (pd.DataFrame): 대상 데이터프레임, 'Target Name' 컬럼을 포함해야 합니다.\n",
    "    merge_df (pd.DataFrame): 임베딩 데이터프레임, 'Target Name' 및 'embedding' 컬럼을 포함해야 합니다.\n",
    "    file_name (str): 저장할 파일의 기본 이름 (확장자는 포함하지 않음)\n",
    "    \n",
    "    Returns:\n",
    "    None\n",
    "    \"\"\"\n",
    "    # merge_df의 'Target Name'을 인덱스로 설정\n",
    "    merge_df_indexed = merge_df.set_index('Target Name')\n",
    "    \n",
    "    # val_df에 'target_protein_vector' 컬럼 추가\n",
    "    val_df['target_protein_vector'] = val_df['Target Name'].map(merge_df_indexed['embedding'])\n",
    "    \n",
    "    # 파일 이름에 '_protein' 추가하여 저장\n",
    "    output_file_name = f\"./target_csv/{file_name}_protein.csv\"\n",
    "    val_df.to_csv(output_file_name, index=False)\n",
    "    print(val_df.shape)\n",
    "    print(\"success!\")"
   ]
  },
  {
   "cell_type": "code",
   "execution_count": 11,
   "metadata": {},
   "outputs": [
    {
     "name": "stdout",
     "output_type": "stream",
     "text": [
      "(70704, 7)\n",
      "success!\n"
     ]
    }
   ],
   "source": [
    "add_protein_vector_and_save(train, merge, train_csv_name)"
   ]
  },
  {
   "cell_type": "code",
   "execution_count": 12,
   "metadata": {},
   "outputs": [
    {
     "name": "stdout",
     "output_type": "stream",
     "text": [
      "(1952, 7)\n",
      "success!\n"
     ]
    }
   ],
   "source": [
    "add_protein_vector_and_save(val, merge, val_csv_name)"
   ]
  },
  {
   "cell_type": "markdown",
   "metadata": {},
   "source": []
  }
 ],
 "metadata": {
  "kernelspec": {
   "display_name": "Python 3 (ipykernel)",
   "language": "python",
   "name": "python3"
  },
  "language_info": {
   "codemirror_mode": {
    "name": "ipython",
    "version": 3
   },
   "file_extension": ".py",
   "mimetype": "text/x-python",
   "name": "python",
   "nbconvert_exporter": "python",
   "pygments_lexer": "ipython3",
   "version": "3.9.19"
  }
 },
 "nbformat": 4,
 "nbformat_minor": 4
}
