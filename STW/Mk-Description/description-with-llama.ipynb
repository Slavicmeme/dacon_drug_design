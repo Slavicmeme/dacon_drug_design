{
 "cells": [
  {
   "cell_type": "code",
   "execution_count": null,
   "metadata": {},
   "outputs": [],
   "source": [
    "from langchain.chains import Wikipedia\n",
    "from transformers import LlamaTokenizer, LlamaModel\n",
    "import torch\n",
    "\n",
    "# 1. 프롬프트 조정 (특정 단백질에 대한 질문)\n",
    "wiki_chain = Wikipedia()\n",
    "query = \"Provide a detailed description of the structure and function of the Hemoglobin protein.\"\n",
    "result = wiki_chain.run(query)\n",
    "\n",
    "# 2. 임베딩 생성\n",
    "tokenizer = LlamaTokenizer.from_pretrained(\"huggingface/llama-3\")\n",
    "model = LlamaModel.from_pretrained(\"huggingface/llama-2\")\n",
    "\n",
    "# 토큰화 및 텐서 변환\n",
    "inputs = tokenizer(result, return_tensors=\"pt\")\n",
    "\n",
    "# 임베딩 생성\n",
    "with torch.no_grad():\n",
    "    outputs = model(**inputs)\n",
    "\n",
    "# 임베딩 추출\n",
    "embeddings = outputs.last_hidden_state\n",
    "\n",
    "# 임베딩 활용\n",
    "print(embeddings)\n"
   ]
  }
 ],
 "metadata": {
  "language_info": {
   "name": "python"
  }
 },
 "nbformat": 4,
 "nbformat_minor": 2
}
