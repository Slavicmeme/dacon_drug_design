{
 "cells": [
  {
   "cell_type": "code",
   "execution_count": 7,
   "metadata": {},
   "outputs": [
    {
     "name": "stderr",
     "output_type": "stream",
     "text": [
      "c:\\Users\\stu83\\anaconda3\\envs\\llm\\Lib\\site-packages\\transformers\\tokenization_utils_base.py:1601: FutureWarning: `clean_up_tokenization_spaces` was not set. It will be set to `True` by default. This behavior will be depracted in transformers v4.45, and will be then set to `False` by default. For more details check this issue: https://github.com/huggingface/transformers/issues/31884\n",
      "  warnings.warn(\n"
     ]
    }
   ],
   "source": [
    "import pandas as pd\n",
    "from sentence_transformers import SentenceTransformer\n",
    "\n",
    "csv_name = \"dacon_train\"\n",
    "df = pd.read_csv('../../train_data/' + csv_name + '.csv')\n",
    "\n",
    "# 임베딩 모델 로드\n",
    "model = SentenceTransformer('sentence-transformers/all-MiniLM-L6-v2')"
   ]
  },
  {
   "cell_type": "code",
   "execution_count": 8,
   "metadata": {},
   "outputs": [],
   "source": [
    "# 고유한 Target Name에 대해 임베딩 계산\n",
    "unique_target_names = df['Target Name'].unique()\n",
    "embeddings = model.encode(unique_target_names)"
   ]
  },
  {
   "cell_type": "code",
   "execution_count": 9,
   "metadata": {},
   "outputs": [],
   "source": [
    "# 임베딩을 Target Name에 대응시키는 딕셔너리 생성\n",
    "embedding_dict = {name: embedding for name, embedding in zip(unique_target_names, embeddings)}"
   ]
  },
  {
   "cell_type": "code",
   "execution_count": 10,
   "metadata": {},
   "outputs": [
    {
     "name": "stdout",
     "output_type": "stream",
     "text": [
      "                                              Smiles  \\\n",
      "0      Oc1ccc(-c2ccc3ncnc(Nc4cccc5[nH]ncc45)c3c2)cc1   \n",
      "1  Cc1ccc(C(=O)Nc2cc(C(C)(C)C)n[nH]2)cc1Nc1ncnc2c...   \n",
      "2  N#Cc1c(-c2ccccc2)cc(-c2ccccc2)nc1/N=c1\\sc(-c2c...   \n",
      "3  C#CCN1CCN(c2ccc(-c3ccc4[nH]c5nccc(-c6ccc(Cc7cc...   \n",
      "4  O=C(N1CCN(c2ncnc3[nH]ccc23)CC1)C1(c2ccc(Br)cc2...   \n",
      "\n",
      "                             Target Name  Standard Value  \\\n",
      "0  Serine/threonine-protein kinase B-raf           547.3   \n",
      "1  Serine/threonine-protein kinase B-raf             5.0   \n",
      "2   Serine/threonine-protein kinase Chk1             9.9   \n",
      "3           ALK tyrosine kinase receptor          3600.0   \n",
      "4    Serine/threonine-protein kinase AKT            27.1   \n",
      "\n",
      "                                    Target Embedding  \n",
      "0  [-0.07307798, -0.02817397, -0.15112427, -0.015...  \n",
      "1  [-0.07307798, -0.02817397, -0.15112427, -0.015...  \n",
      "2  [-0.10474009, 0.03651712, -0.07544042, 0.02934...  \n",
      "3  [-0.06357608, 0.022508983, -0.1155538, 0.02284...  \n",
      "4  [-0.1120778, -0.012338152, -0.046760537, 0.011...  \n"
     ]
    }
   ],
   "source": [
    "# # 데이터프레임에 임베딩 추가 (임베딩 벡터를 문자열로 변환, 포맷팅)\n",
    "# df['Target Embedding'] = df['Target Name'].map(lambda x: ', '.join(map(str, embedding_dict[x])))\n",
    "\n",
    "# 포맷팅하지 않은 임베딩 벡터를 DataFrame에 추가\n",
    "df['Target Embedding'] = df['Target Name'].map(lambda x: embedding_dict[x])\n",
    "\n",
    "\n",
    "# 결과 확인\n",
    "print(df.head())"
   ]
  },
  {
   "cell_type": "code",
   "execution_count": 11,
   "metadata": {},
   "outputs": [],
   "source": [
    "# CSV 파일로 저장\n",
    "df.to_csv(csv_name +'_embeddings.csv', index=False)"
   ]
  }
 ],
 "metadata": {
  "kernelspec": {
   "display_name": "Python 3 (ipykernel)",
   "language": "python",
   "name": "python3"
  },
  "language_info": {
   "codemirror_mode": {
    "name": "ipython",
    "version": 3
   },
   "file_extension": ".py",
   "mimetype": "text/x-python",
   "name": "python",
   "nbconvert_exporter": "python",
   "pygments_lexer": "ipython3",
   "version": "3.12.4"
  }
 },
 "nbformat": 4,
 "nbformat_minor": 4
}
