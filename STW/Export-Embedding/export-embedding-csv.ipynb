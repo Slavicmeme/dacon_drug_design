{
 "cells": [
  {
   "cell_type": "code",
   "execution_count": 6,
   "metadata": {},
   "outputs": [
    {
     "name": "stderr",
     "output_type": "stream",
     "text": [
      "c:\\Users\\stu83\\anaconda3\\envs\\llm\\Lib\\site-packages\\transformers\\tokenization_utils_base.py:1601: FutureWarning: `clean_up_tokenization_spaces` was not set. It will be set to `True` by default. This behavior will be depracted in transformers v4.45, and will be then set to `False` by default. For more details check this issue: https://github.com/huggingface/transformers/issues/31884\n",
      "  warnings.warn(\n"
     ]
    }
   ],
   "source": [
    "import pandas as pd\n",
    "from sentence_transformers import SentenceTransformer\n",
    "\n",
    "csv_name = \"protein_train_data\"\n",
    "df = pd.read_csv('../../train_data/' + csv_name + '.csv')\n",
    "\n",
    "# 임베딩 모델 로드\n",
    "model = SentenceTransformer('sentence-transformers/all-MiniLM-L6-v2')"
   ]
  },
  {
   "cell_type": "code",
   "execution_count": 7,
   "metadata": {},
   "outputs": [],
   "source": [
    "# 고유한 Target Name에 대해 임베딩 계산\n",
    "unique_target_names = df['Target Name'].unique()\n",
    "embeddings = model.encode(unique_target_names)"
   ]
  },
  {
   "cell_type": "code",
   "execution_count": 8,
   "metadata": {},
   "outputs": [],
   "source": [
    "# 임베딩을 Target Name에 대응시키는 딕셔너리 생성\n",
    "embedding_dict = {name: embedding for name, embedding in zip(unique_target_names, embeddings)}"
   ]
  },
  {
   "cell_type": "code",
   "execution_count": 9,
   "metadata": {},
   "outputs": [
    {
     "name": "stdout",
     "output_type": "stream",
     "text": [
      "                                              Smiles  \\\n",
      "0  CN[C@@H](C)C(=O)N[C@H](C(=O)N1C[C@@H](NC(=O)CC...   \n",
      "1  CC(C)(O)[C@H](F)CN1Cc2cc(NC(=O)c3cnn4cccnc34)c...   \n",
      "2  CC(C)(O)[C@H](F)CN1Cc2cc(NC(=O)c3cnn4cccnc34)c...   \n",
      "3  CC(C)(O)[C@H](F)CN1Cc2cc(NC(=O)c3cnn4cccnc34)c...   \n",
      "4  COc1cc2c(OC[C@@H]3CCC(=O)N3)ncc(C#CCCCCCCCCCCC...   \n",
      "\n",
      "                                  Target Name  Standard Value  \\\n",
      "0  Interleukin-1 receptor-associated kinase 4           0.022   \n",
      "1  Interleukin-1 receptor-associated kinase 4           0.026   \n",
      "2  Interleukin-1 receptor-associated kinase 4           0.078   \n",
      "3  Interleukin-1 receptor-associated kinase 4           0.081   \n",
      "4  Interleukin-1 receptor-associated kinase 4           0.099   \n",
      "\n",
      "                                    Target Embedding  \n",
      "0  [-0.03705732, 0.032045893, 0.022981437, 0.0012...  \n",
      "1  [-0.03705732, 0.032045893, 0.022981437, 0.0012...  \n",
      "2  [-0.03705732, 0.032045893, 0.022981437, 0.0012...  \n",
      "3  [-0.03705732, 0.032045893, 0.022981437, 0.0012...  \n",
      "4  [-0.03705732, 0.032045893, 0.022981437, 0.0012...  \n"
     ]
    }
   ],
   "source": [
    "# # 데이터프레임에 임베딩 추가 (임베딩 벡터를 문자열로 변환, 포맷팅)\n",
    "# df['Target Embedding'] = df['Target Name'].map(lambda x: ', '.join(map(str, embedding_dict[x])))\n",
    "\n",
    "# 포맷팅하지 않은 임베딩 벡터를 DataFrame에 추가\n",
    "df['Target Embedding'] = df['Target Name'].map(lambda x: embedding_dict[x])\n",
    "\n",
    "\n",
    "# 결과 확인\n",
    "print(df.head())"
   ]
  },
  {
   "cell_type": "code",
   "execution_count": 10,
   "metadata": {},
   "outputs": [],
   "source": [
    "# CSV 파일로 저장\n",
    "df.to_csv(csv_name +'_embeddings.csv', index=False)"
   ]
  }
 ],
 "metadata": {
  "kernelspec": {
   "display_name": "Python 3 (ipykernel)",
   "language": "python",
   "name": "python3"
  },
  "language_info": {
   "codemirror_mode": {
    "name": "ipython",
    "version": 3
   },
   "file_extension": ".py",
   "mimetype": "text/x-python",
   "name": "python",
   "nbconvert_exporter": "python",
   "pygments_lexer": "ipython3",
   "version": "3.12.4"
  }
 },
 "nbformat": 4,
 "nbformat_minor": 4
}
