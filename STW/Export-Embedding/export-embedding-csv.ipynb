{
 "cells": [
  {
   "cell_type": "code",
   "execution_count": 3,
   "metadata": {},
   "outputs": [],
   "source": [
    "import pandas as pd\n",
    "from sentence_transformers import SentenceTransformer\n",
    "\n",
    "csv_name = \"dacon_train\"\n",
    "df = pd.read_csv('../../train_data/' + csv_name + '.csv')\n",
    "\n",
    "# 임베딩 모델 로드\n",
    "model = SentenceTransformer('sentence-transformers/all-MiniLM-L6-v2')"
   ]
  },
  {
   "cell_type": "code",
   "execution_count": 4,
   "metadata": {},
   "outputs": [],
   "source": [
    "# 고유한 Target Name에 대해 임베딩 계산\n",
    "unique_target_names = df['Target Name'].unique()\n",
    "embeddings = model.encode(unique_target_names)"
   ]
  },
  {
   "cell_type": "code",
   "execution_count": 5,
   "metadata": {},
   "outputs": [],
   "source": [
    "# 임베딩을 Target Name에 대응시키는 딕셔너리 생성\n",
    "embedding_dict = {name: embedding for name, embedding in zip(unique_target_names, embeddings)}"
   ]
  },
  {
   "cell_type": "code",
   "execution_count": 6,
   "metadata": {},
   "outputs": [
    {
     "name": "stdout",
     "output_type": "stream",
     "text": [
      "  Molecule ChEMBL ID Standard Type Standard Relation  Standard Value  \\\n",
      "0      CHEMBL4443947          IC50               '='           0.022   \n",
      "1      CHEMBL4556091          IC50               '='           0.026   \n",
      "2      CHEMBL4566431          IC50               '='           0.078   \n",
      "3      CHEMBL4545898          IC50               '='           0.081   \n",
      "4      CHEMBL4448950          IC50               '='           0.099   \n",
      "\n",
      "  Standard Units  pChEMBL Value Assay ChEMBL ID Target ChEMBL ID  \\\n",
      "0             nM          10.66   CHEMBL4361896       CHEMBL3778   \n",
      "1             nM          10.59   CHEMBL4345131       CHEMBL3778   \n",
      "2             nM          10.11   CHEMBL4345131       CHEMBL3778   \n",
      "3             nM          10.09   CHEMBL4345131       CHEMBL3778   \n",
      "4             nM          10.00   CHEMBL4361896       CHEMBL3778   \n",
      "\n",
      "                                  Target Name Target Organism     Target Type  \\\n",
      "0  Interleukin-1 receptor-associated kinase 4    Homo sapiens  SINGLE PROTEIN   \n",
      "1  Interleukin-1 receptor-associated kinase 4    Homo sapiens  SINGLE PROTEIN   \n",
      "2  Interleukin-1 receptor-associated kinase 4    Homo sapiens  SINGLE PROTEIN   \n",
      "3  Interleukin-1 receptor-associated kinase 4    Homo sapiens  SINGLE PROTEIN   \n",
      "4  Interleukin-1 receptor-associated kinase 4    Homo sapiens  SINGLE PROTEIN   \n",
      "\n",
      "  Document ChEMBL ID  IC50_nM  pIC50  \\\n",
      "0      CHEMBL4359855    0.022  10.66   \n",
      "1      CHEMBL4342485    0.026  10.59   \n",
      "2      CHEMBL4342485    0.078  10.11   \n",
      "3      CHEMBL4342485    0.081  10.09   \n",
      "4      CHEMBL4359855    0.099  10.00   \n",
      "\n",
      "                                              Smiles  \\\n",
      "0  CN[C@@H](C)C(=O)N[C@H](C(=O)N1C[C@@H](NC(=O)CC...   \n",
      "1  CC(C)(O)[C@H](F)CN1Cc2cc(NC(=O)c3cnn4cccnc34)c...   \n",
      "2  CC(C)(O)[C@H](F)CN1Cc2cc(NC(=O)c3cnn4cccnc34)c...   \n",
      "3  CC(C)(O)[C@H](F)CN1Cc2cc(NC(=O)c3cnn4cccnc34)c...   \n",
      "4  COc1cc2c(OC[C@@H]3CCC(=O)N3)ncc(C#CCCCCCCCCCCC...   \n",
      "\n",
      "                                       Raw Embedding  \n",
      "0  [-0.037057307, 0.032045923, 0.022981424, 0.001...  \n",
      "1  [-0.037057307, 0.032045923, 0.022981424, 0.001...  \n",
      "2  [-0.037057307, 0.032045923, 0.022981424, 0.001...  \n",
      "3  [-0.037057307, 0.032045923, 0.022981424, 0.001...  \n",
      "4  [-0.037057307, 0.032045923, 0.022981424, 0.001...  \n"
     ]
    }
   ],
   "source": [
    "# # 데이터프레임에 임베딩 추가 (임베딩 벡터를 문자열로 변환, 포맷팅)\n",
    "# df['Target Embedding'] = df['Target Name'].map(lambda x: ', '.join(map(str, embedding_dict[x])))\n",
    "\n",
    "# 포맷팅하지 않은 임베딩 벡터를 DataFrame에 추가\n",
    "df['Target Embedding'] = df['Target Name'].map(lambda x: embedding_dict[x])\n",
    "\n",
    "\n",
    "# 결과 확인\n",
    "print(df.head())"
   ]
  },
  {
   "cell_type": "code",
   "execution_count": 7,
   "metadata": {},
   "outputs": [],
   "source": [
    "# CSV 파일로 저장\n",
    "df.to_csv(csv_name +'_embeddings.csv', index=False)"
   ]
  }
 ],
 "metadata": {
  "kernelspec": {
   "display_name": "Python 3 (ipykernel)",
   "language": "python",
   "name": "python3"
  },
  "language_info": {
   "codemirror_mode": {
    "name": "ipython",
    "version": 3
   },
   "file_extension": ".py",
   "mimetype": "text/x-python",
   "name": "python",
   "nbconvert_exporter": "python",
   "pygments_lexer": "ipython3",
   "version": "3.12.5"
  }
 },
 "nbformat": 4,
 "nbformat_minor": 4
}
