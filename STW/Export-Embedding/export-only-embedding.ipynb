{
 "cells": [
  {
   "cell_type": "code",
   "execution_count": 5,
   "metadata": {},
   "outputs": [],
   "source": [
    "import pandas as pd\n",
    "from sentence_transformers import SentenceTransformer"
   ]
  },
  {
   "cell_type": "code",
   "execution_count": 6,
   "metadata": {},
   "outputs": [],
   "source": [
    "csv_name = 'dacon_train'\n",
    "# df = pd.read_csv('../../train_data/' + csv_name + '.csv')\n",
    "df = pd.read_csv('train_data_smi.csv')"
   ]
  },
  {
   "cell_type": "code",
   "execution_count": 7,
   "metadata": {},
   "outputs": [
    {
     "data": {
      "text/plain": [
       "0        Tyrosine-protein kinase receptor RET\n",
       "1        Tyrosine-protein kinase receptor RET\n",
       "2        Tyrosine-protein kinase receptor RET\n",
       "3        Tyrosine-protein kinase receptor RET\n",
       "4        Tyrosine-protein kinase receptor RET\n",
       "                         ...                 \n",
       "90210           PI3-kinase p110-gamma subunit\n",
       "90211           PI3-kinase p110-gamma subunit\n",
       "90212           PI3-kinase p110-gamma subunit\n",
       "90213           PI3-kinase p110-gamma subunit\n",
       "90214           PI3-kinase p110-gamma subunit\n",
       "Name: Target Name, Length: 90215, dtype: object"
      ]
     },
     "execution_count": 7,
     "metadata": {},
     "output_type": "execute_result"
    }
   ],
   "source": [
    "df['Target Name']"
   ]
  },
  {
   "cell_type": "code",
   "execution_count": 8,
   "metadata": {},
   "outputs": [
    {
     "name": "stdout",
     "output_type": "stream",
     "text": [
      "Target Name\n",
      "Vascular endothelial growth factor receptor 2    8309\n",
      "Tyrosine-protein kinase JAK2                     5399\n",
      "PI3-kinase p110-alpha subunit                    5121\n",
      "Serine/threonine-protein kinase B-raf            4012\n",
      "Serine/threonine-protein kinase mTOR             3960\n",
      "                                                 ... \n",
      "Interleukin-1 receptor-associated kinase 1         84\n",
      "Thymidine kinase, cytosolic                        56\n",
      "Serine/threonine-protein kinase MST2               51\n",
      "Thymidine kinase, mitochondrial                    51\n",
      "Interleukin-1 receptor-associated kinase 3         25\n",
      "Name: count, Length: 61, dtype: int64\n"
     ]
    }
   ],
   "source": [
    "target_name_counts = df['Target Name'].value_counts()\n",
    "\n",
    "# 결과 출력\n",
    "print(target_name_counts)"
   ]
  },
  {
   "cell_type": "code",
   "execution_count": 9,
   "metadata": {},
   "outputs": [
    {
     "name": "stdout",
     "output_type": "stream",
     "text": [
      "['Tyrosine-protein kinase receptor RET'\n",
      " 'Macrophage-stimulating protein receptor' 'Cyclin-dependent kinase 7'\n",
      " 'Serine-protein kinase ATM' 'Plasma kallikrein'\n",
      " 'PI3-kinase p110-alpha subunit'\n",
      " 'Signal transducer and activator of transcription 3'\n",
      " 'Rho-associated protein kinase 2' 'Tyrosine-protein kinase JAK2'\n",
      " 'Neurotrophic tyrosine kinase receptor type 2'\n",
      " 'Serine/threonine-protein kinase B-raf' 'Tyrosine-protein kinase TXK'\n",
      " 'PI3-kinase p110-delta subunit' 'Tyrosine-protein kinase ABL'\n",
      " 'Serine/threonine-protein kinase mTOR'\n",
      " 'Dual specificity protein kinase TTK' 'Tyrosine-protein kinase ITK/TSK'\n",
      " 'Choline kinase alpha' 'Tyrosine-protein kinase TEC'\n",
      " 'Tyrosine-protein kinase receptor FLT3' 'Cyclin-dependent kinase 1'\n",
      " 'ALK tyrosine kinase receptor' 'Ephrin type-B receptor 4'\n",
      " 'Serine/threonine-protein kinase Chk1' 'Cyclin-dependent kinase 5'\n",
      " 'Thymidine kinase, cytosolic'\n",
      " 'Interleukin-1 receptor-associated kinase 4' 'Casein kinase I epsilon'\n",
      " 'Tyrosine-protein kinase JAK3' 'Serine/threonine-protein kinase AKT'\n",
      " 'Serine/threonine-protein kinase PLK3' 'Focal adhesion kinase 1'\n",
      " 'Interleukin-1 receptor-associated kinase 3'\n",
      " 'Tyrosine-protein kinase SRC' 'Tyrosine-protein kinase BTK'\n",
      " 'Nerve growth factor receptor Trk-A' 'PI3-kinase p110-beta subunit'\n",
      " 'Serine/threonine-protein kinase PLK2'\n",
      " 'Fibroblast growth factor receptor 4' 'Cyclin-dependent kinase 2'\n",
      " 'Hepatocyte growth factor receptor'\n",
      " 'Vascular endothelial growth factor receptor 2'\n",
      " 'Serine/threonine-protein kinase Aurora-A' 'Cyclin-dependent kinase 9'\n",
      " 'E3 ubiquitin-protein ligase TRIM33'\n",
      " 'Phosphatidylinositol 3-kinase catalytic subunit type 3'\n",
      " 'Tyrosine-protein kinase receptor TYRO3'\n",
      " 'Serine/threonine-protein kinase MST2' 'Tyrosine-protein kinase BMX'\n",
      " 'Serine/threonine-protein kinase PLK1' 'Tankyrase-2'\n",
      " 'Serine/threonine-protein kinase PLK4'\n",
      " 'Receptor protein-tyrosine kinase erbB-2'\n",
      " 'Serine/threonine-protein kinase AKT2'\n",
      " 'Interleukin-1 receptor-associated kinase 1'\n",
      " 'Eukaryotic translation initiation factor 2-alpha kinase 3'\n",
      " 'Thymidine kinase, mitochondrial' 'Stem cell growth factor receptor'\n",
      " 'Tyrosine-protein kinase BRK' 'Serine/threonine-protein kinase AKT3'\n",
      " 'PI3-kinase p110-gamma subunit']\n"
     ]
    }
   ],
   "source": [
    "# 'Target Name' 열의 고유한 값들만 추출\n",
    "unique_values = df['Target Name'].unique()\n",
    "\n",
    "# 결과 출력\n",
    "print(unique_values)"
   ]
  },
  {
   "cell_type": "code",
   "execution_count": 10,
   "metadata": {},
   "outputs": [
    {
     "name": "stdout",
     "output_type": "stream",
     "text": [
      "['Tyrosine-protein kinase receptor RET', 'Macrophage-stimulating protein receptor', 'Cyclin-dependent kinase 7', 'Serine-protein kinase ATM', 'Plasma kallikrein', 'PI3-kinase p110-alpha subunit', 'Signal transducer and activator of transcription 3', 'Rho-associated protein kinase 2', 'Tyrosine-protein kinase JAK2', 'Neurotrophic tyrosine kinase receptor type 2', 'Serine/threonine-protein kinase B-raf', 'Tyrosine-protein kinase TXK', 'PI3-kinase p110-delta subunit', 'Tyrosine-protein kinase ABL', 'Serine/threonine-protein kinase mTOR', 'Dual specificity protein kinase TTK', 'Tyrosine-protein kinase ITK/TSK', 'Choline kinase alpha', 'Tyrosine-protein kinase TEC', 'Tyrosine-protein kinase receptor FLT3', 'Cyclin-dependent kinase 1', 'ALK tyrosine kinase receptor', 'Ephrin type-B receptor 4', 'Serine/threonine-protein kinase Chk1', 'Cyclin-dependent kinase 5', 'Thymidine kinase, cytosolic', 'Interleukin-1 receptor-associated kinase 4', 'Casein kinase I epsilon', 'Tyrosine-protein kinase JAK3', 'Serine/threonine-protein kinase AKT', 'Serine/threonine-protein kinase PLK3', 'Focal adhesion kinase 1', 'Interleukin-1 receptor-associated kinase 3', 'Tyrosine-protein kinase SRC', 'Tyrosine-protein kinase BTK', 'Nerve growth factor receptor Trk-A', 'PI3-kinase p110-beta subunit', 'Serine/threonine-protein kinase PLK2', 'Fibroblast growth factor receptor 4', 'Cyclin-dependent kinase 2', 'Hepatocyte growth factor receptor', 'Vascular endothelial growth factor receptor 2', 'Serine/threonine-protein kinase Aurora-A', 'Cyclin-dependent kinase 9', 'E3 ubiquitin-protein ligase TRIM33', 'Phosphatidylinositol 3-kinase catalytic subunit type 3', 'Tyrosine-protein kinase receptor TYRO3', 'Serine/threonine-protein kinase MST2', 'Tyrosine-protein kinase BMX', 'Serine/threonine-protein kinase PLK1', 'Tankyrase-2', 'Serine/threonine-protein kinase PLK4', 'Receptor protein-tyrosine kinase erbB-2', 'Serine/threonine-protein kinase AKT2', 'Interleukin-1 receptor-associated kinase 1', 'Eukaryotic translation initiation factor 2-alpha kinase 3', 'Thymidine kinase, mitochondrial', 'Stem cell growth factor receptor', 'Tyrosine-protein kinase BRK', 'Serine/threonine-protein kinase AKT3', 'PI3-kinase p110-gamma subunit']\n"
     ]
    }
   ],
   "source": [
    "unique_values_list = df['Target Name'].unique().tolist()\n",
    "print(unique_values_list)"
   ]
  },
  {
   "cell_type": "code",
   "execution_count": 11,
   "metadata": {},
   "outputs": [
    {
     "name": "stderr",
     "output_type": "stream",
     "text": [
      "c:\\Users\\stu83\\anaconda3\\envs\\llm\\Lib\\site-packages\\transformers\\tokenization_utils_base.py:1601: FutureWarning: `clean_up_tokenization_spaces` was not set. It will be set to `True` by default. This behavior will be depracted in transformers v4.45, and will be then set to `False` by default. For more details check this issue: https://github.com/huggingface/transformers/issues/31884\n",
      "  warnings.warn(\n"
     ]
    },
    {
     "name": "stdout",
     "output_type": "stream",
     "text": [
      "(61, 384)\n"
     ]
    },
    {
     "name": "stderr",
     "output_type": "stream",
     "text": [
      "c:\\Users\\stu83\\anaconda3\\envs\\llm\\Lib\\site-packages\\transformers\\models\\bert\\modeling_bert.py:439: UserWarning: 1Torch was not compiled with flash attention. (Triggered internally at C:\\actions-runner\\_work\\pytorch\\pytorch\\builder\\windows\\pytorch\\aten\\src\\ATen\\native\\transformers\\cuda\\sdp_utils.cpp:555.)\n",
      "  attn_output = torch.nn.functional.scaled_dot_product_attention(\n"
     ]
    }
   ],
   "source": [
    "model = SentenceTransformer('sentence-transformers/all-MiniLM-L6-v2')\n",
    "embeddings = model.encode(unique_values_list)\n",
    "print(embeddings.shape)"
   ]
  },
  {
   "cell_type": "code",
   "execution_count": 12,
   "metadata": {},
   "outputs": [
    {
     "name": "stdout",
     "output_type": "stream",
     "text": [
      "                               Target Name  \\\n",
      "0     Tyrosine-protein kinase receptor RET   \n",
      "1  Macrophage-stimulating protein receptor   \n",
      "2                Cyclin-dependent kinase 7   \n",
      "3                Serine-protein kinase ATM   \n",
      "4                        Plasma kallikrein   \n",
      "\n",
      "                                              Vector  \n",
      "0  [-0.03450594, -0.0042400663, -0.064986214, 0.0...  \n",
      "1  [0.0035530692, -0.04481264, -0.008507135, 0.01...  \n",
      "2  [-0.12616001, 0.03603303, -0.04900142, 0.03167...  \n",
      "3  [-0.08521697, -0.01823001, -0.105824195, -0.00...  \n",
      "4  [-0.080381006, -0.07189574, -0.0667743, 0.0269...  \n"
     ]
    }
   ],
   "source": [
    "# DataFrame 생성\n",
    "df_embeddings = pd.DataFrame({\n",
    "    'Target Name': unique_values_list,\n",
    "    'Vector': list(embeddings)  # NumPy 배열을 리스트로 변환하지 않고 직접 사용\n",
    "})\n",
    "\n",
    "# 결과 확인\n",
    "print(df_embeddings.head())\n",
    "\n",
    "# CSV 파일로 저장\n",
    "df_embeddings.to_csv('target_name_embeddings.csv', index=False)"
   ]
  },
  {
   "cell_type": "code",
   "execution_count": 13,
   "metadata": {},
   "outputs": [
    {
     "name": "stdout",
     "output_type": "stream",
     "text": [
      "                               Target Name  \\\n",
      "0     Tyrosine-protein kinase receptor RET   \n",
      "1  Macrophage-stimulating protein receptor   \n",
      "2                Cyclin-dependent kinase 7   \n",
      "3                Serine-protein kinase ATM   \n",
      "4                        Plasma kallikrein   \n",
      "\n",
      "                                              Vector  \n",
      "0  -0.03450594, -0.0042400663, -0.064986214, 0.01...  \n",
      "1  0.0035530692, -0.04481264, -0.008507135, 0.017...  \n",
      "2  -0.12616001, 0.03603303, -0.04900142, 0.031673...  \n",
      "3  -0.08521697, -0.01823001, -0.105824195, -0.006...  \n",
      "4  -0.080381006, -0.07189574, -0.0667743, 0.02696...  \n"
     ]
    }
   ],
   "source": [
    "# 공백을 ','로 바꾸고, 대괄호 제거\n",
    "formatted_embeddings = [', '.join(map(str, vector)) for vector in embeddings]\n",
    "\n",
    "# DataFrame 생성\n",
    "df_embeddings = pd.DataFrame({\n",
    "    'Target Name': unique_values_list,\n",
    "    'Vector': formatted_embeddings  # 각 벡터를 문자열로 저장\n",
    "})\n",
    "\n",
    "# 결과 확인\n",
    "print(df_embeddings.head())\n",
    "\n",
    "# CSV 파일로 저장\n",
    "df_embeddings.to_csv('target_name_formatted_embeddings.csv', index=False)"
   ]
  },
  {
   "cell_type": "code",
   "execution_count": 16,
   "metadata": {},
   "outputs": [
    {
     "name": "stdout",
     "output_type": "stream",
     "text": [
      "                               Target Name  \\\n",
      "0     Tyrosine-protein kinase receptor RET   \n",
      "1  Macrophage-stimulating protein receptor   \n",
      "2                Cyclin-dependent kinase 7   \n",
      "3                Serine-protein kinase ATM   \n",
      "4                        Plasma kallikrein   \n",
      "\n",
      "                                              Vector  \n",
      "0  [-3.45059410e-02 -4.24006628e-03 -6.49862140e-...  \n",
      "1  [ 3.55306920e-03 -4.48126383e-02 -8.50713532e-...  \n",
      "2  [-1.26160011e-01  3.60330306e-02 -4.90014218e-...  \n",
      "3  [-8.52169693e-02 -1.82300098e-02 -1.05824195e-...  \n",
      "4  [-8.03810060e-02 -7.18957409e-02 -6.67743012e-...  \n"
     ]
    }
   ],
   "source": [
    "check_df = pd.read_csv('target_name_embeddings.csv')\n",
    "\n",
    "print(check_df.head())"
   ]
  },
  {
   "cell_type": "code",
   "execution_count": null,
   "metadata": {},
   "outputs": [],
   "source": []
  }
 ],
 "metadata": {
  "kernelspec": {
   "display_name": "Python 3 (ipykernel)",
   "language": "python",
   "name": "python3"
  },
  "language_info": {
   "codemirror_mode": {
    "name": "ipython",
    "version": 3
   },
   "file_extension": ".py",
   "mimetype": "text/x-python",
   "name": "python",
   "nbconvert_exporter": "python",
   "pygments_lexer": "ipython3",
   "version": "3.12.4"
  }
 },
 "nbformat": 4,
 "nbformat_minor": 4
}
