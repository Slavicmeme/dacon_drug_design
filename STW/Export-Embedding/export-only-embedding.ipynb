{
 "cells": [
  {
   "cell_type": "code",
   "execution_count": 43,
   "metadata": {},
   "outputs": [],
   "source": [
    "import pandas as pd\n",
    "from sentence_transformers import SentenceTransformer"
   ]
  },
  {
   "cell_type": "code",
   "execution_count": 44,
   "metadata": {},
   "outputs": [],
   "source": [
    "df = pd.read_csv('../../train_data/train.csv')"
   ]
  },
  {
   "cell_type": "code",
   "execution_count": 45,
   "metadata": {},
   "outputs": [
    {
     "data": {
      "text/plain": [
       "0       Interleukin-1 receptor-associated kinase 4\n",
       "1       Interleukin-1 receptor-associated kinase 4\n",
       "2       Interleukin-1 receptor-associated kinase 4\n",
       "3       Interleukin-1 receptor-associated kinase 4\n",
       "4       Interleukin-1 receptor-associated kinase 4\n",
       "                           ...                    \n",
       "1947    Interleukin-1 receptor-associated kinase 4\n",
       "1948    Interleukin-1 receptor-associated kinase 4\n",
       "1949    Interleukin-1 receptor-associated kinase 4\n",
       "1950    Interleukin-1 receptor-associated kinase 4\n",
       "1951    Interleukin-1 receptor-associated kinase 4\n",
       "Name: Target Name, Length: 1952, dtype: object"
      ]
     },
     "execution_count": 45,
     "metadata": {},
     "output_type": "execute_result"
    }
   ],
   "source": [
    "df['Target Name']"
   ]
  },
  {
   "cell_type": "code",
   "execution_count": 46,
   "metadata": {},
   "outputs": [
    {
     "name": "stdout",
     "output_type": "stream",
     "text": [
      "Target Name\n",
      "Interleukin-1 receptor-associated kinase 4    1952\n",
      "Name: count, dtype: int64\n"
     ]
    }
   ],
   "source": [
    "target_name_counts = df['Target Name'].value_counts()\n",
    "\n",
    "# 결과 출력\n",
    "print(target_name_counts)"
   ]
  },
  {
   "cell_type": "code",
   "execution_count": 47,
   "metadata": {},
   "outputs": [
    {
     "name": "stdout",
     "output_type": "stream",
     "text": [
      "['Interleukin-1 receptor-associated kinase 4']\n"
     ]
    }
   ],
   "source": [
    "# 'Target Name' 열의 고유한 값들만 추출\n",
    "unique_values = df['Target Name'].unique()\n",
    "\n",
    "# 결과 출력\n",
    "print(unique_values)"
   ]
  },
  {
   "cell_type": "code",
   "execution_count": 48,
   "metadata": {},
   "outputs": [
    {
     "name": "stdout",
     "output_type": "stream",
     "text": [
      "['Interleukin-1 receptor-associated kinase 4']\n"
     ]
    }
   ],
   "source": [
    "unique_values_list = df['Target Name'].unique().tolist()\n",
    "print(unique_values_list)"
   ]
  },
  {
   "cell_type": "code",
   "execution_count": 49,
   "metadata": {},
   "outputs": [
    {
     "name": "stdout",
     "output_type": "stream",
     "text": [
      "(1, 384)\n"
     ]
    }
   ],
   "source": [
    "model = SentenceTransformer('sentence-transformers/all-MiniLM-L6-v2')\n",
    "embeddings = model.encode(unique_values_list)\n",
    "print(embeddings.shape)"
   ]
  },
  {
   "cell_type": "code",
   "execution_count": 50,
   "metadata": {},
   "outputs": [
    {
     "name": "stdout",
     "output_type": "stream",
     "text": [
      "                                  Target Name  \\\n",
      "0  Interleukin-1 receptor-associated kinase 4   \n",
      "\n",
      "                                              Vector  \n",
      "0  [-0.037057307, 0.032045923, 0.022981424, 0.001...  \n"
     ]
    }
   ],
   "source": [
    "# DataFrame 생성\n",
    "df_embeddings = pd.DataFrame({\n",
    "    'Target Name': unique_values_list,\n",
    "    'Vector': list(embeddings)  # NumPy 배열을 리스트로 변환하지 않고 직접 사용\n",
    "})\n",
    "\n",
    "# 결과 확인\n",
    "print(df_embeddings.head())\n",
    "\n",
    "# CSV 파일로 저장\n",
    "df_embeddings.to_csv('target_name_embeddings.csv', index=False)"
   ]
  },
  {
   "cell_type": "code",
   "execution_count": 51,
   "metadata": {},
   "outputs": [
    {
     "name": "stdout",
     "output_type": "stream",
     "text": [
      "                                  Target Name  \\\n",
      "0  Interleukin-1 receptor-associated kinase 4   \n",
      "\n",
      "                                              Vector  \n",
      "0  -0.037057307, 0.032045923, 0.022981424, 0.0012...  \n"
     ]
    }
   ],
   "source": [
    "# 공백을 ','로 바꾸고, 대괄호 제거\n",
    "formatted_embeddings = [', '.join(map(str, vector)) for vector in embeddings]\n",
    "\n",
    "# DataFrame 생성\n",
    "df_embeddings = pd.DataFrame({\n",
    "    'Target Name': unique_values_list,\n",
    "    'Vector': formatted_embeddings  # 각 벡터를 문자열로 저장\n",
    "})\n",
    "\n",
    "# 결과 확인\n",
    "print(df_embeddings.head())\n",
    "\n",
    "# CSV 파일로 저장\n",
    "df_embeddings.to_csv('target_name_formatted_embeddings.csv', index=False)"
   ]
  },
  {
   "cell_type": "code",
   "execution_count": 52,
   "metadata": {},
   "outputs": [
    {
     "name": "stdout",
     "output_type": "stream",
     "text": [
      "                                  Target Name  \\\n",
      "0  Interleukin-1 receptor-associated kinase 4   \n",
      "\n",
      "                                              Vector  \n",
      "0  -0.037057307, 0.032045923, 0.022981424, 0.0012...  \n"
     ]
    }
   ],
   "source": [
    "check_df = pd.read_csv('target_name_formatted_embeddings.csv')\n",
    "\n",
    "print(check_df.head())"
   ]
  },
  {
   "cell_type": "code",
   "execution_count": null,
   "metadata": {},
   "outputs": [],
   "source": []
  }
 ],
 "metadata": {
  "kernelspec": {
   "display_name": "Python 3",
   "language": "python",
   "name": "python3"
  },
  "language_info": {
   "codemirror_mode": {
    "name": "ipython",
    "version": 3
   },
   "file_extension": ".py",
   "mimetype": "text/x-python",
   "name": "python",
   "nbconvert_exporter": "python",
   "pygments_lexer": "ipython3",
   "version": "3.11.9"
  }
 },
 "nbformat": 4,
 "nbformat_minor": 2
}
