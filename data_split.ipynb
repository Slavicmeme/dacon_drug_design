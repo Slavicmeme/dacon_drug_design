{
 "cells": [
  {
   "cell_type": "code",
   "execution_count": 5,
   "id": "8ae7fafa-b790-45a5-9aab-e3452aad04b5",
   "metadata": {},
   "outputs": [],
   "source": [
    "import pandas as pd\n",
    "import os\n",
    "from sklearn.model_selection import train_test_split"
   ]
  },
  {
   "cell_type": "code",
   "execution_count": 4,
   "id": "c1cc4d75-ce7a-437a-831c-72957120ef95",
   "metadata": {},
   "outputs": [
    {
     "name": "stdout",
     "output_type": "stream",
     "text": [
      "                                                  Smiles  \\\n",
      "0      CN[C@@H](C)C(=O)N[C@H](C(=O)N1C[C@@H](NC(=O)CC...   \n",
      "1      CC(C)(O)[C@H](F)CN1Cc2cc(NC(=O)c3cnn4cccnc34)c...   \n",
      "2      CC(C)(O)[C@H](F)CN1Cc2cc(NC(=O)c3cnn4cccnc34)c...   \n",
      "3      CC(C)(O)[C@H](F)CN1Cc2cc(NC(=O)c3cnn4cccnc34)c...   \n",
      "4      COc1cc2c(OC[C@@H]3CCC(=O)N3)ncc(C#CCCCCCCCCCCC...   \n",
      "...                                                  ...   \n",
      "43509  COc1cc(CCc2cc(-c3nc4ccc(CN5C[C@@H](C)N[C@@H](C...   \n",
      "43510  COc1cc2nccc(Oc3ccc(NC(=O)C4(C(=O)NC5CC5)CC4)c(...   \n",
      "43511  O=C(Nc1cccc(C(F)(F)F)c1)c1cccc2cc(Oc3cc(CO)ncn...   \n",
      "43512  Clc1ccc(Nc2nnc(Cc3ccncc3)c3ccccc23)cc1.O=C(O)C...   \n",
      "43513  Nc1cc(Oc2ccc3c(C(=O)Nc4cccc(C(F)(F)F)c4)cccc3c...   \n",
      "\n",
      "                                         Target Name  Standard Value  \n",
      "0         Interleukin-1 receptor-associated kinase 4           0.022  \n",
      "1         Interleukin-1 receptor-associated kinase 4           0.026  \n",
      "2         Interleukin-1 receptor-associated kinase 4           0.078  \n",
      "3         Interleukin-1 receptor-associated kinase 4           0.081  \n",
      "4         Interleukin-1 receptor-associated kinase 4           0.099  \n",
      "...                                              ...             ...  \n",
      "43509  Vascular endothelial growth factor receptor 2         158.000  \n",
      "43510  Vascular endothelial growth factor receptor 2           4.000  \n",
      "43511  Vascular endothelial growth factor receptor 2           4.600  \n",
      "43512  Vascular endothelial growth factor receptor 2          55.000  \n",
      "43513  Vascular endothelial growth factor receptor 2           3.000  \n",
      "\n",
      "[43514 rows x 3 columns]\n"
     ]
    }
   ],
   "source": [
    "file_dir = os.path.join('train_data')\n",
    "\n",
    "file_path = os.path.join(file_dir,'regression_train_data.csv')\n",
    "\n",
    "df = pd.read_csv(file_path)\n",
    "\n",
    "print(df)"
   ]
  },
  {
   "cell_type": "code",
   "execution_count": 8,
   "id": "d28dba0c-cfcd-4294-bc72-981fb2ef484e",
   "metadata": {},
   "outputs": [
    {
     "name": "stdout",
     "output_type": "stream",
     "text": [
      "Train DataFrame:\n",
      "                                                  Smiles  \\\n",
      "10755  O=C(COc1ccc2c(=O)ccoc2c1)Nc1cccc(NS(=O)(=O)c2c...   \n",
      "11749     O=C(Nc1cccc(-c2cnc3cc(-c4nncs4)ccn23)c1)NC1CC1   \n",
      "17984  CC(C)Nc1cc(-n2ccc3cc(C#N)cnc32)ncc1C(=O)N[C@H]...   \n",
      "16914  O=c1[nH]c([C@@H]2CNC[C@H]2c2ccccc2)nc2ccc(-c3c...   \n",
      "5329   COc1cc2c(cnc3[nH]nc(C4CC4)c32)cc1-c1c(F)ccc(NS...   \n",
      "\n",
      "                                         Target Name  Standard Value  \n",
      "10755                Rho-associated protein kinase 2          6894.0  \n",
      "11749  Vascular endothelial growth factor receptor 2           173.0  \n",
      "17984     Interleukin-1 receptor-associated kinase 4             4.3  \n",
      "16914                Rho-associated protein kinase 2             1.0  \n",
      "5329           Serine/threonine-protein kinase B-raf             7.0  \n",
      "(39162, 3)\n",
      "\n",
      "Validation DataFrame:\n",
      "                                                  Smiles  \\\n",
      "15101      Clc1cccc(CNc2nc(Nc3ccc4[nH]cnc4c3)ncc2Br)c1Cl   \n",
      "31715  COCC(COC)Nc1cc(N2CCN(C)CC2)ccc1C(=O)Nc1n[nH]c2...   \n",
      "21028  Cc1n[nH]cc1-c1ccc2nc([C@@H]3CNC[C@H]3c3ccccc3)...   \n",
      "30310                  COc1ccc(CNc2ccnc3oc4ccccc4c23)cc1   \n",
      "1034   CN1CCc2nc(NC(=O)c3cccc(CNC(=O)c4ccc(-c5ccncc5)...   \n",
      "\n",
      "                           Target Name  Standard Value  \n",
      "15101        Cyclin-dependent kinase 1          126.00  \n",
      "31715     ALK tyrosine kinase receptor           99.00  \n",
      "21028  Rho-associated protein kinase 2            7.00  \n",
      "30310      Tyrosine-protein kinase ABL       392000.00  \n",
      "1034   Rho-associated protein kinase 2            0.26  \n",
      "(4352, 3)\n"
     ]
    }
   ],
   "source": [
    "df = df.sample(frac=1).reset_index(drop=True) # 데이터 프레임을 랜덤으로 섞기\n",
    "\n",
    "# 훈련 세트와 검증 세트로 분할 (예: 80% 훈련, 20% 검증)\n",
    "train_df, val_df = train_test_split(df, test_size=0.1, random_state=42)\n",
    "\n",
    "# 결과 확인\n",
    "print(\"Train DataFrame:\")\n",
    "print(train_df.head())\n",
    "print(train_df.shape)\n",
    "print(\"\\nValidation DataFrame:\")\n",
    "print(val_df.head())\n",
    "print(val_df.shape)"
   ]
  },
  {
   "cell_type": "code",
   "execution_count": 9,
   "id": "a1f2528f-1829-4bbc-b509-75b0ad57360e",
   "metadata": {},
   "outputs": [],
   "source": [
    "train_df.to_csv('dacon_train.csv', index=False)\n",
    "val_df.to_csv('dacon_val.csv', index=False)"
   ]
  },
  {
   "cell_type": "code",
   "execution_count": null,
   "id": "c5fcf5c8-01d1-4d03-860b-1e6cfd3c8d3a",
   "metadata": {},
   "outputs": [],
   "source": []
  }
 ],
 "metadata": {
  "kernelspec": {
   "display_name": "Python 3 (ipykernel)",
   "language": "python",
   "name": "python3"
  },
  "language_info": {
   "codemirror_mode": {
    "name": "ipython",
    "version": 3
   },
   "file_extension": ".py",
   "mimetype": "text/x-python",
   "name": "python",
   "nbconvert_exporter": "python",
   "pygments_lexer": "ipython3",
   "version": "3.9.19"
  }
 },
 "nbformat": 4,
 "nbformat_minor": 5
}
