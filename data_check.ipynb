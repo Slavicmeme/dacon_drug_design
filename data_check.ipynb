{
 "cells": [
  {
   "cell_type": "code",
   "execution_count": 1,
   "id": "652ee714-185a-46e4-891b-d95566dd3e3d",
   "metadata": {},
   "outputs": [],
   "source": [
    "import pandas as pd"
   ]
  },
  {
   "cell_type": "code",
   "execution_count": 4,
   "id": "298df139-f612-4eeb-9c97-a67abd76fb2a",
   "metadata": {},
   "outputs": [
    {
     "name": "stdout",
     "output_type": "stream",
     "text": [
      "     Molecule ChEMBL ID Standard Type Standard Relation  Standard Value  \\\n",
      "0         CHEMBL4443947          IC50               '='           0.022   \n",
      "1         CHEMBL4556091          IC50               '='           0.026   \n",
      "2         CHEMBL4566431          IC50               '='           0.078   \n",
      "3         CHEMBL4545898          IC50               '='           0.081   \n",
      "4         CHEMBL4448950          IC50               '='           0.099   \n",
      "...                 ...           ...               ...             ...   \n",
      "1947       CHEMBL380009          IC50               '='       30000.000   \n",
      "1948       CHEMBL377654          IC50               '='       30000.000   \n",
      "1949       CHEMBL208667          IC50               '='       30000.000   \n",
      "1950      CHEMBL3403453          IC50               '='       42000.000   \n",
      "1951      CHEMBL4093989          IC50               '='       55000.000   \n",
      "\n",
      "     Standard Units  pChEMBL Value Assay ChEMBL ID Target ChEMBL ID  \\\n",
      "0                nM          10.66   CHEMBL4361896       CHEMBL3778   \n",
      "1                nM          10.59   CHEMBL4345131       CHEMBL3778   \n",
      "2                nM          10.11   CHEMBL4345131       CHEMBL3778   \n",
      "3                nM          10.09   CHEMBL4345131       CHEMBL3778   \n",
      "4                nM          10.00   CHEMBL4361896       CHEMBL3778   \n",
      "...             ...            ...             ...              ...   \n",
      "1947             nM           4.52    CHEMBL870864       CHEMBL3778   \n",
      "1948             nM           4.52    CHEMBL870864       CHEMBL3778   \n",
      "1949             nM           4.52    CHEMBL870864       CHEMBL3778   \n",
      "1950             nM           4.38   CHEMBL3407004       CHEMBL3778   \n",
      "1951             nM           4.26   CHEMBL4015944       CHEMBL3778   \n",
      "\n",
      "                                     Target Name Target Organism  \\\n",
      "0     Interleukin-1 receptor-associated kinase 4    Homo sapiens   \n",
      "1     Interleukin-1 receptor-associated kinase 4    Homo sapiens   \n",
      "2     Interleukin-1 receptor-associated kinase 4    Homo sapiens   \n",
      "3     Interleukin-1 receptor-associated kinase 4    Homo sapiens   \n",
      "4     Interleukin-1 receptor-associated kinase 4    Homo sapiens   \n",
      "...                                          ...             ...   \n",
      "1947  Interleukin-1 receptor-associated kinase 4    Homo sapiens   \n",
      "1948  Interleukin-1 receptor-associated kinase 4    Homo sapiens   \n",
      "1949  Interleukin-1 receptor-associated kinase 4    Homo sapiens   \n",
      "1950  Interleukin-1 receptor-associated kinase 4    Homo sapiens   \n",
      "1951  Interleukin-1 receptor-associated kinase 4    Homo sapiens   \n",
      "\n",
      "         Target Type Document ChEMBL ID    IC50_nM  pIC50  \\\n",
      "0     SINGLE PROTEIN      CHEMBL4359855      0.022  10.66   \n",
      "1     SINGLE PROTEIN      CHEMBL4342485      0.026  10.59   \n",
      "2     SINGLE PROTEIN      CHEMBL4342485      0.078  10.11   \n",
      "3     SINGLE PROTEIN      CHEMBL4342485      0.081  10.09   \n",
      "4     SINGLE PROTEIN      CHEMBL4359855      0.099  10.00   \n",
      "...              ...                ...        ...    ...   \n",
      "1947  SINGLE PROTEIN      CHEMBL1147720  30000.000   4.52   \n",
      "1948  SINGLE PROTEIN      CHEMBL1147720  30000.000   4.52   \n",
      "1949  SINGLE PROTEIN      CHEMBL1147720  30000.000   4.52   \n",
      "1950  SINGLE PROTEIN      CHEMBL3400143  42000.000   4.38   \n",
      "1951  SINGLE PROTEIN      CHEMBL4014327  55000.000   4.26   \n",
      "\n",
      "                                                 Smiles  \n",
      "0     CN[C@@H](C)C(=O)N[C@H](C(=O)N1C[C@@H](NC(=O)CC...  \n",
      "1     CC(C)(O)[C@H](F)CN1Cc2cc(NC(=O)c3cnn4cccnc34)c...  \n",
      "2     CC(C)(O)[C@H](F)CN1Cc2cc(NC(=O)c3cnn4cccnc34)c...  \n",
      "3     CC(C)(O)[C@H](F)CN1Cc2cc(NC(=O)c3cnn4cccnc34)c...  \n",
      "4     COc1cc2c(OC[C@@H]3CCC(=O)N3)ncc(C#CCCCCCCCCCCC...  \n",
      "...                                                 ...  \n",
      "1947      O=C(Nc1nc2cc[nH]cc-2n1)c1cccc([N+](=O)[O-])c1  \n",
      "1948              CCCCn1c(NC(=O)c2cccc(Cl)c2)nc2ccccc21  \n",
      "1949  O=C(Nc1nc2cc(F)c(F)cc2[nH]1)c1cccc([N+](=O)[O-...  \n",
      "1950  OC[C@H]1C[C@@H](Nc2nc(Nc3ccccc3)ncc2-c2nc3cccc...  \n",
      "1951                               CC(C)Oc1ccccc1C(N)=O  \n",
      "\n",
      "[1952 rows x 15 columns]\n",
      "(1952, 15)\n",
      "           ID                                             Smiles\n",
      "0    TEST_000  O=C(C1=CSC(C2=CC=CN=C2)=N1)NC3=CC(NC4CCN(C)CC4...\n",
      "1    TEST_001  N#CC1=CC(C=C2)=C(C=C1)N2C(N=C3)=NC(NC4CCCCC4)=...\n",
      "2    TEST_002  N#CC(C=C1)=C(N[C@@H]2CCNC2)C=C1NC(N=C3)=NC=C3C...\n",
      "3    TEST_003  N#CC(C=C1)=CC=C1NC(N=C2)=NC(NC3CC(NC(C=C)=O)CC...\n",
      "4    TEST_004  N#CC(C=C1)=CC=C1NC(N=C2)=NC(NC3CC(N)CC3)=C2C(C...\n",
      "..        ...                                                ...\n",
      "108  TEST_108  N#CC1=CC(C=C2)=C(C=C1)N2C(N=C3)=NC(N4CCOCC4)=C...\n",
      "109  TEST_109  O=C(C1=CSC(C2=CC=NC=C2)=N1)NC3=CC(NC4CCN(C(C)C...\n",
      "110  TEST_110  N#Cc1ccc(Nc2ncc(cn2)c3cnn(c3)C4CCNCC4)cc1N[C@@...\n",
      "111  TEST_111  O=C(C)N(CC1)CCC1N2N=CC(C3=CN=C(N4C(C=CC(C#N)=C...\n",
      "112  TEST_112  N#CC(C=C1)=CC=C1NC(N=C2)=NC(NC3CNCCC3)=C2C(C=N...\n",
      "\n",
      "[113 rows x 2 columns]\n",
      "(113, 2)\n"
     ]
    }
   ],
   "source": [
    "train_df = pd.read_csv('data/train.csv')\n",
    "test_df = pd.read_csv('data/test.csv')\n",
    "\n",
    "print(train_df)\n",
    "print(train_df.shape)\n",
    "print(test_df)\n",
    "print(test_df.shape)"
   ]
  },
  {
   "cell_type": "code",
   "execution_count": null,
   "id": "ea6a7be5-0fbb-48b5-915b-163a713bf46a",
   "metadata": {},
   "outputs": [],
   "source": [
    "data_path = 'data/protein/'\n",
    "\n",
    "df1 = pd.read_tsv(data_path,'cdk5.tsv')\n",
    "df2 = pd.read_tsv(data_path,'EGFR.tsv')"
   ]
  }
 ],
 "metadata": {
  "kernelspec": {
   "display_name": "Python 3 (ipykernel)",
   "language": "python",
   "name": "python3"
  },
  "language_info": {
   "codemirror_mode": {
    "name": "ipython",
    "version": 3
   },
   "file_extension": ".py",
   "mimetype": "text/x-python",
   "name": "python",
   "nbconvert_exporter": "python",
   "pygments_lexer": "ipython3",
   "version": "3.9.19"
  }
 },
 "nbformat": 4,
 "nbformat_minor": 5
}
