{
 "cells": [
  {
   "cell_type": "code",
   "execution_count": 1,
   "id": "5093c73a-d190-4732-aee9-270fb635ab4b",
   "metadata": {},
   "outputs": [],
   "source": [
    "import os\n",
    "import pandas as pd\n",
    "from sklearn.model_selection import train_test_split"
   ]
  },
  {
   "cell_type": "code",
   "execution_count": 2,
   "id": "171b6a85-4d97-4350-b31d-06b75c1238a4",
   "metadata": {},
   "outputs": [
    {
     "name": "stdout",
     "output_type": "stream",
     "text": [
      "No missing values found in any row.\n"
     ]
    }
   ],
   "source": [
    "# 파일 디렉토리 및 경로 설정\n",
    "file_dir = os.path.join('train_data')\n",
    "file_path = os.path.join(file_dir, 'protein_train_data.csv')\n",
    "\n",
    "# 데이터 로드\n",
    "df = pd.read_csv(file_path)\n",
    "\n",
    "# 데이터 프레임을 랜덤으로 섞기\n",
    "df = df.sample(frac=1).reset_index(drop=True)\n",
    "\n",
    "# 비어있는 값이 있는 행 찾기\n",
    "empty_rows = df[df.isna().any(axis=1)]\n",
    "\n",
    "# 결과 출력\n",
    "if not empty_rows.empty:\n",
    "    print(\"There are rows with missing values:\")\n",
    "    print(empty_rows)\n",
    "else:\n",
    "    print(\"No missing values found in any row.\")"
   ]
  },
  {
   "cell_type": "code",
   "execution_count": 3,
   "id": "0d587b7b-66d6-4b11-985b-bba2c9a7d72d",
   "metadata": {},
   "outputs": [
    {
     "name": "stdout",
     "output_type": "stream",
     "text": [
      "                                                  Smiles  \\\n",
      "0      CONC(=O)c1cc2c(N[C@@H](C)c3ccccc3)nc(-n3cnc4cc...   \n",
      "1      Cc1ccc(C(=O)Nc2ccc(CN3CCN(C)CC3)c(C(F)(F)F)c2)...   \n",
      "2      O=c1[nH]c(N2CCOCC2)nc(N[C@@H]2CCCNC2)c1-c1nc2c...   \n",
      "3      COc1n[nH]c2ncc(NC(=O)c3c(F)ccc(NS(=O)(=O)Cc4cc...   \n",
      "4      COc1cc(OC)cc(N(CC(O)CO)c2ccc3ncc(-c4cnn(C)c4)n...   \n",
      "...                                                  ...   \n",
      "57645  CNC(=O)c1cc(Oc2ccc(NC(=O)Nc3ccc(Cl)c(C(F)(F)F)...   \n",
      "57646  CN1CCN(c2ccc(-c3ccc4[nH]c5nccc(C#Cc6ccccc6Cl)c...   \n",
      "57647  Cc1ccc(F)c(NC(=O)c2ccc(F)c(Oc3ccnc(-c4cc(C(=O)...   \n",
      "57648  CN1CCN(c2ccc(-c3nc(-c4ccc5c(c4)Cc4cn[nH]c4-5)c...   \n",
      "57649  COc1ccc(NC(=O)c2ccc(C)c(Nc3ncnc4cnc(N(C)CC5CCC...   \n",
      "\n",
      "                                         Target Name  Standard Value  \n",
      "0                       Tyrosine-protein kinase JAK3          18.000  \n",
      "1                        Tyrosine-protein kinase ABL           0.410  \n",
      "2         Interleukin-1 receptor-associated kinase 4          19.000  \n",
      "3              Serine/threonine-protein kinase B-raf         190.000  \n",
      "4                Fibroblast growth factor receptor 4           7.943  \n",
      "...                                              ...             ...  \n",
      "57645  Vascular endothelial growth factor receptor 2          90.000  \n",
      "57646                   ALK tyrosine kinase receptor         290.000  \n",
      "57647  Vascular endothelial growth factor receptor 2          28.000  \n",
      "57648          Serine/threonine-protein kinase B-raf         580.000  \n",
      "57649          Serine/threonine-protein kinase B-raf           9.000  \n",
      "\n",
      "[57650 rows x 3 columns]\n"
     ]
    }
   ],
   "source": [
    "print(df)"
   ]
  },
  {
   "cell_type": "code",
   "execution_count": 4,
   "id": "abd01afa-3007-40a0-a6b3-02e75157cb71",
   "metadata": {},
   "outputs": [
    {
     "name": "stdout",
     "output_type": "stream",
     "text": [
      "(51885, 3)\n",
      "                                                  Smiles  \\\n",
      "2338       Oc1ccc(-c2ccc3ncnc(Nc4cccc5[nH]ncc45)c3c2)cc1   \n",
      "19077  Cc1ccc(C(=O)Nc2cc(C(C)(C)C)n[nH]2)cc1Nc1ncnc2c...   \n",
      "17252  N#Cc1c(-c2ccccc2)cc(-c2ccccc2)nc1/N=c1\\sc(-c2c...   \n",
      "25927  C#CCN1CCN(c2ccc(-c3ccc4[nH]c5nccc(-c6ccc(Cc7cc...   \n",
      "22389  O=C(N1CCN(c2ncnc3[nH]ccc23)CC1)C1(c2ccc(Br)cc2...   \n",
      "\n",
      "                                 Target Name  Standard Value  \n",
      "2338   Serine/threonine-protein kinase B-raf           547.3  \n",
      "19077  Serine/threonine-protein kinase B-raf             5.0  \n",
      "17252   Serine/threonine-protein kinase Chk1             9.9  \n",
      "25927           ALK tyrosine kinase receptor          3600.0  \n",
      "22389    Serine/threonine-protein kinase AKT            27.1  \n",
      "(5765, 3)\n",
      "                                                  Smiles  \\\n",
      "56679  C[C@@H]1CNC[C@@H](C(=O)Nc2ncc(SCc3ncc(C(C)(C)C...   \n",
      "224    CC(C)(O)c1cc2nn(C[C@@H]3CCC(=O)N3)cc2cc1NC(=O)...   \n",
      "32457  Nc1n[nH]c2cncc(-c3ccc(NC(=O)Nc4cc(C(F)(F)F)ccc...   \n",
      "9167   CCCS(=O)(=O)Nc1ccc(F)c(C(=O)Nc2cnc3[nH]c(C)nc3...   \n",
      "13270  O=S(=O)(Nc1ccc(F)c(Nc2ncccc2-c2ncnc3[nH]cnc23)...   \n",
      "\n",
      "                                         Target Name  Standard Value  \n",
      "56679                      Cyclin-dependent kinase 9          4100.0  \n",
      "224       Interleukin-1 receptor-associated kinase 4           730.0  \n",
      "32457  Vascular endothelial growth factor receptor 2             1.3  \n",
      "9167           Serine/threonine-protein kinase B-raf            40.0  \n",
      "13270          Serine/threonine-protein kinase B-raf           201.0  \n"
     ]
    }
   ],
   "source": [
    "train_df, val_df = train_test_split(df, test_size=0.1, random_state=42)\n",
    "\n",
    "# 결과 확인\n",
    "print(train_df.shape)\n",
    "print(train_df.head())\n",
    "print(val_df.shape)\n",
    "print(val_df.head())"
   ]
  },
  {
   "cell_type": "code",
   "execution_count": 5,
   "id": "5efaa29f-7f22-4364-a9db-356668ef6844",
   "metadata": {},
   "outputs": [],
   "source": [
    "train_df.to_csv('train_data/dacon_train.csv', index=False)\n",
    "val_df.to_csv('train_data/dacon_val.csv', index=False)"
   ]
  }
 ],
 "metadata": {
  "kernelspec": {
   "display_name": "Python 3 (ipykernel)",
   "language": "python",
   "name": "python3"
  },
  "language_info": {
   "codemirror_mode": {
    "name": "ipython",
    "version": 3
   },
   "file_extension": ".py",
   "mimetype": "text/x-python",
   "name": "python",
   "nbconvert_exporter": "python",
   "pygments_lexer": "ipython3",
   "version": "3.9.19"
  }
 },
 "nbformat": 4,
 "nbformat_minor": 5
}
